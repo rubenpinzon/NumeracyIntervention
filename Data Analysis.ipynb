{
 "cells": [
  {
   "cell_type": "markdown",
   "metadata": {
    "collapsed": false
   },
   "source": [
    "# Numeracy Intervention Analysis File\n",
    "\n",
    "This file is the companion of the manuscript titled \"Numeracy intervention for remedying the impact of school mobility\", submitted to the University of Sunderland as assessment of module EDE314 Experiences of Teaching\"."
   ]
  },
  {
   "cell_type": "code",
   "execution_count": 35,
   "metadata": {
    "collapsed": false
   },
   "outputs": [
    {
     "name": "stdout",
     "output_type": "stream",
     "text": [
      "Concept Performance with 2 questions\n",
      "*******************************************It is important for me to do well compared to others in this class.\n",
      "********************************************************I just want to avoid getting a low grade in this class\n",
      "Concept Mastery with 2 questions\n",
      "********The most important thing for me in this course is to understand the content as thoroughly as possible.\n",
      "****************************************Mastering the material in Introduction to robotics is important to me.\n",
      "Concept Success with 2 questions\n",
      "****************************************************************************I expect to do well in this class.\n",
      "****************Considering the difficulty of this course and my skills, I think I will do well in this class.\n",
      "Concept Interest with 3 questions\n",
      "******************************************************************I think the field of robotics is interesting\n",
      "***********************************************To be honest, I just don’t find science/engineering interesting\n",
      "*****************************************************I think what we’re learning in this class is interesting.\n",
      "Concept Utility with 3 questions\n",
      "*****************************I think what we are studying in introduction to robotics class is useful to know.\n",
      "******************************************************I find the content of this course personally meaningful.\n",
      "*************************************I can see how what I learn from robotics and engineering applies to life.\n"
     ]
    }
   ],
   "source": [
    "import pandas as pd\n",
    "import numpy as np\n",
    "import statsmodels.api as sm\n",
    "\n",
    "# Mapping from concepts to questions in the survey\n",
    "labels2q = {'Success': (1, 2), 'Interest': (3, 4, 5), 'Utility': (6, 13, 7), 'Mastery': (8, 9), 'Performance': (10, 11)}\n",
    "# questions that have a reversed scale (1-10)\n",
    "reverse = 4\n",
    "\n",
    "df = pd.read_csv('Survey Learning.csv')\n",
    "questions = list(df.columns.values)\n",
    "#reverse score of questions with the reversed scale\n",
    "df.loc[:,questions[reverse]] = 10 - df[[reverse]]\n",
    "\n",
    "# calculate the total scores for each group concept.\n",
    "groups = pd.DataFrame()\n",
    "for name, q in labels2q.items():\n",
    "    print('Concept {} with {} questions'.format(name, len(q)))\n",
    "    for qs in q:\n",
    "        print(questions[qs].rjust(110,'*'))\n",
    "    totalScore = df[list(q)].sum(axis=1)\n",
    "    groups[name] = totalScore   \n"
   ]
  },
  {
   "cell_type": "code",
   "execution_count": 36,
   "metadata": {
    "collapsed": false
   },
   "outputs": [
    {
     "data": {
      "text/html": [
       "<div>\n",
       "<table border=\"1\" class=\"dataframe\">\n",
       "  <thead>\n",
       "    <tr style=\"text-align: right;\">\n",
       "      <th></th>\n",
       "      <th>Performance</th>\n",
       "      <th>Mastery</th>\n",
       "      <th>Success</th>\n",
       "      <th>Interest</th>\n",
       "      <th>Utility</th>\n",
       "    </tr>\n",
       "  </thead>\n",
       "  <tbody>\n",
       "    <tr>\n",
       "      <th>0</th>\n",
       "      <td>7</td>\n",
       "      <td>10</td>\n",
       "      <td>12</td>\n",
       "      <td>20</td>\n",
       "      <td>15</td>\n",
       "    </tr>\n",
       "    <tr>\n",
       "      <th>1</th>\n",
       "      <td>11</td>\n",
       "      <td>11</td>\n",
       "      <td>9</td>\n",
       "      <td>18</td>\n",
       "      <td>17</td>\n",
       "    </tr>\n",
       "    <tr>\n",
       "      <th>2</th>\n",
       "      <td>14</td>\n",
       "      <td>13</td>\n",
       "      <td>12</td>\n",
       "      <td>22</td>\n",
       "      <td>19</td>\n",
       "    </tr>\n",
       "    <tr>\n",
       "      <th>3</th>\n",
       "      <td>12</td>\n",
       "      <td>13</td>\n",
       "      <td>12</td>\n",
       "      <td>23</td>\n",
       "      <td>21</td>\n",
       "    </tr>\n",
       "    <tr>\n",
       "      <th>4</th>\n",
       "      <td>2</td>\n",
       "      <td>12</td>\n",
       "      <td>11</td>\n",
       "      <td>22</td>\n",
       "      <td>18</td>\n",
       "    </tr>\n",
       "    <tr>\n",
       "      <th>5</th>\n",
       "      <td>12</td>\n",
       "      <td>12</td>\n",
       "      <td>11</td>\n",
       "      <td>20</td>\n",
       "      <td>19</td>\n",
       "    </tr>\n",
       "    <tr>\n",
       "      <th>6</th>\n",
       "      <td>11</td>\n",
       "      <td>14</td>\n",
       "      <td>11</td>\n",
       "      <td>20</td>\n",
       "      <td>17</td>\n",
       "    </tr>\n",
       "    <tr>\n",
       "      <th>7</th>\n",
       "      <td>14</td>\n",
       "      <td>14</td>\n",
       "      <td>12</td>\n",
       "      <td>23</td>\n",
       "      <td>21</td>\n",
       "    </tr>\n",
       "    <tr>\n",
       "      <th>8</th>\n",
       "      <td>14</td>\n",
       "      <td>14</td>\n",
       "      <td>11</td>\n",
       "      <td>22</td>\n",
       "      <td>18</td>\n",
       "    </tr>\n",
       "    <tr>\n",
       "      <th>9</th>\n",
       "      <td>7</td>\n",
       "      <td>14</td>\n",
       "      <td>14</td>\n",
       "      <td>23</td>\n",
       "      <td>21</td>\n",
       "    </tr>\n",
       "    <tr>\n",
       "      <th>10</th>\n",
       "      <td>10</td>\n",
       "      <td>11</td>\n",
       "      <td>12</td>\n",
       "      <td>19</td>\n",
       "      <td>14</td>\n",
       "    </tr>\n",
       "    <tr>\n",
       "      <th>11</th>\n",
       "      <td>10</td>\n",
       "      <td>13</td>\n",
       "      <td>13</td>\n",
       "      <td>21</td>\n",
       "      <td>21</td>\n",
       "    </tr>\n",
       "    <tr>\n",
       "      <th>12</th>\n",
       "      <td>11</td>\n",
       "      <td>13</td>\n",
       "      <td>14</td>\n",
       "      <td>23</td>\n",
       "      <td>18</td>\n",
       "    </tr>\n",
       "    <tr>\n",
       "      <th>13</th>\n",
       "      <td>14</td>\n",
       "      <td>14</td>\n",
       "      <td>13</td>\n",
       "      <td>23</td>\n",
       "      <td>21</td>\n",
       "    </tr>\n",
       "    <tr>\n",
       "      <th>14</th>\n",
       "      <td>11</td>\n",
       "      <td>14</td>\n",
       "      <td>14</td>\n",
       "      <td>23</td>\n",
       "      <td>21</td>\n",
       "    </tr>\n",
       "  </tbody>\n",
       "</table>\n",
       "</div>"
      ],
      "text/plain": [
       "    Performance  Mastery  Success  Interest  Utility\n",
       "0             7       10       12        20       15\n",
       "1            11       11        9        18       17\n",
       "2            14       13       12        22       19\n",
       "3            12       13       12        23       21\n",
       "4             2       12       11        22       18\n",
       "5            12       12       11        20       19\n",
       "6            11       14       11        20       17\n",
       "7            14       14       12        23       21\n",
       "8            14       14       11        22       18\n",
       "9             7       14       14        23       21\n",
       "10           10       11       12        19       14\n",
       "11           10       13       13        21       21\n",
       "12           11       13       14        23       18\n",
       "13           14       14       13        23       21\n",
       "14           11       14       14        23       21"
      ]
     },
     "execution_count": 36,
     "metadata": {},
     "output_type": "execute_result"
    }
   ],
   "source": [
    "# Show the concepts and scores\n",
    "groups"
   ]
  },
  {
   "cell_type": "markdown",
   "metadata": {},
   "source": [
    "## Calculate Cronbach's Alpha\n",
    "\n",
    "Cronbach's alpha ($\\alpha$) is also include to assess the consistency of these values under the implicit assumption that the averaged correlation of a set of self-reported values is an accurate estimator of the set of items that belong to a certain construct. A Cronbach's alpha value close to one indicates that the set of values from the survey correspond to the same concept. Conversely, a small $\\alpha$ value suggest that the survey has a low number of questions or poor interrelatedness \\parencite{tavakol2011making}. $\\alpha$ is calculated as follows:\n",
    "$$\\alpha = \\frac{K}{K-1} \\left(1-\\frac{\\sum_{i=1}^K \\sigma^2_{Y_i}}{ \\sigma^2_X}\\right)$$"
   ]
  },
  {
   "cell_type": "code",
   "execution_count": 76,
   "metadata": {
    "collapsed": false
   },
   "outputs": [
    {
     "name": "stdout",
     "output_type": "stream",
     "text": [
      "Concept: Performance     with Cronbach' alpha of 0.492\n",
      "Concept: Mastery         with Cronbach' alpha of 0.798\n",
      "Concept: Success         with Cronbach' alpha of 0.564\n",
      "Concept: Interest        with Cronbach' alpha of 0.795\n",
      "Concept: Utility         with Cronbach' alpha of 0.777\n"
     ]
    }
   ],
   "source": [
    "for name, q in labels2q.items():\n",
    "    sigmaY = df[list(q)].var(axis=0)\n",
    "    sigmaX = df[list(q)].sum(axis=1).var()\n",
    "    K = len(q)\n",
    "    alpha = K/(K-1)*(1-sigmaY.sum()/sigmaX)\n",
    "    print('Concept: {:15} with Cronbach\\' alpha of {:.3}'.format(name,alpha))\n"
   ]
  },
  {
   "cell_type": "markdown",
   "metadata": {},
   "source": [
    "## Multiple regression modeling"
   ]
  },
  {
   "cell_type": "markdown",
   "metadata": {},
   "source": [
    "The multiple regression model describes the score values as a weighted sum of the predictors. For example, the model for the two variables Success and Mastery and how they predict the scores is:\n",
    "\n",
    "$Interest=\\beta_0+\\beta_1\\cdot Success+\\beta_2\\cdot Mastery$"
   ]
  },
  {
   "cell_type": "code",
   "execution_count": 77,
   "metadata": {
    "collapsed": false
   },
   "outputs": [
    {
     "name": "stderr",
     "output_type": "stream",
     "text": [
      "C:\\Users\\Mr. Pinzon\\Anaconda3\\lib\\site-packages\\scipy\\stats\\stats.py:1535: UserWarning: kurtosistest only valid for n>=20 ... continuing anyway, n=15\n",
      "  \"anyway, n=%i\" % int(n))\n"
     ]
    },
    {
     "data": {
      "text/html": [
       "<table class=\"simpletable\">\n",
       "<caption>OLS Regression Results</caption>\n",
       "<tr>\n",
       "  <th>Dep. Variable:</th>        <td>Interest</td>     <th>  R-squared:         </th> <td>   0.691</td>\n",
       "</tr>\n",
       "<tr>\n",
       "  <th>Model:</th>                   <td>OLS</td>       <th>  Adj. R-squared:    </th> <td>   0.639</td>\n",
       "</tr>\n",
       "<tr>\n",
       "  <th>Method:</th>             <td>Least Squares</td>  <th>  F-statistic:       </th> <td>   13.41</td>\n",
       "</tr>\n",
       "<tr>\n",
       "  <th>Date:</th>             <td>Wed, 21 Dec 2016</td> <th>  Prob (F-statistic):</th> <td>0.000872</td>\n",
       "</tr>\n",
       "<tr>\n",
       "  <th>Time:</th>                 <td>10:36:57</td>     <th>  Log-Likelihood:    </th> <td> -19.785</td>\n",
       "</tr>\n",
       "<tr>\n",
       "  <th>No. Observations:</th>      <td>    15</td>      <th>  AIC:               </th> <td>   45.57</td>\n",
       "</tr>\n",
       "<tr>\n",
       "  <th>Df Residuals:</th>          <td>    12</td>      <th>  BIC:               </th> <td>   47.69</td>\n",
       "</tr>\n",
       "<tr>\n",
       "  <th>Df Model:</th>              <td>     2</td>      <th>                     </th>     <td> </td>   \n",
       "</tr>\n",
       "<tr>\n",
       "  <th>Covariance Type:</th>      <td>nonrobust</td>    <th>                     </th>     <td> </td>   \n",
       "</tr>\n",
       "</table>\n",
       "<table class=\"simpletable\">\n",
       "<tr>\n",
       "     <td></td>        <th>coef</th>     <th>std err</th>      <th>t</th>      <th>P>|t|</th> <th>[95.0% Conf. Int.]</th> \n",
       "</tr>\n",
       "<tr>\n",
       "  <th>const</th>   <td>    6.2352</td> <td>    2.957</td> <td>    2.109</td> <td> 0.057</td> <td>   -0.206    12.677</td>\n",
       "</tr>\n",
       "<tr>\n",
       "  <th>Success</th> <td>    0.5622</td> <td>    0.217</td> <td>    2.594</td> <td> 0.023</td> <td>    0.090     1.034</td>\n",
       "</tr>\n",
       "<tr>\n",
       "  <th>Mastery</th> <td>    0.6600</td> <td>    0.228</td> <td>    2.899</td> <td> 0.013</td> <td>    0.164     1.156</td>\n",
       "</tr>\n",
       "</table>\n",
       "<table class=\"simpletable\">\n",
       "<tr>\n",
       "  <th>Omnibus:</th>       <td> 0.016</td> <th>  Durbin-Watson:     </th> <td>   1.510</td>\n",
       "</tr>\n",
       "<tr>\n",
       "  <th>Prob(Omnibus):</th> <td> 0.992</td> <th>  Jarque-Bera (JB):  </th> <td>   0.233</td>\n",
       "</tr>\n",
       "<tr>\n",
       "  <th>Skew:</th>          <td> 0.008</td> <th>  Prob(JB):          </th> <td>   0.890</td>\n",
       "</tr>\n",
       "<tr>\n",
       "  <th>Kurtosis:</th>      <td> 2.390</td> <th>  Cond. No.          </th> <td>    201.</td>\n",
       "</tr>\n",
       "</table>"
      ],
      "text/plain": [
       "<class 'statsmodels.iolib.summary.Summary'>\n",
       "\"\"\"\n",
       "                            OLS Regression Results                            \n",
       "==============================================================================\n",
       "Dep. Variable:               Interest   R-squared:                       0.691\n",
       "Model:                            OLS   Adj. R-squared:                  0.639\n",
       "Method:                 Least Squares   F-statistic:                     13.41\n",
       "Date:                Wed, 21 Dec 2016   Prob (F-statistic):           0.000872\n",
       "Time:                        10:36:57   Log-Likelihood:                -19.785\n",
       "No. Observations:                  15   AIC:                             45.57\n",
       "Df Residuals:                      12   BIC:                             47.69\n",
       "Df Model:                           2                                         \n",
       "Covariance Type:            nonrobust                                         \n",
       "==============================================================================\n",
       "                 coef    std err          t      P>|t|      [95.0% Conf. Int.]\n",
       "------------------------------------------------------------------------------\n",
       "const          6.2352      2.957      2.109      0.057        -0.206    12.677\n",
       "Success        0.5622      0.217      2.594      0.023         0.090     1.034\n",
       "Mastery        0.6600      0.228      2.899      0.013         0.164     1.156\n",
       "==============================================================================\n",
       "Omnibus:                        0.016   Durbin-Watson:                   1.510\n",
       "Prob(Omnibus):                  0.992   Jarque-Bera (JB):                0.233\n",
       "Skew:                           0.008   Prob(JB):                        0.890\n",
       "Kurtosis:                       2.390   Cond. No.                         201.\n",
       "==============================================================================\n",
       "\n",
       "Warnings:\n",
       "[1] Standard Errors assume that the covariance matrix of the errors is correctly specified.\n",
       "\"\"\""
      ]
     },
     "execution_count": 77,
     "metadata": {},
     "output_type": "execute_result"
    }
   ],
   "source": [
    "X = groups[['Success', 'Mastery']]\n",
    "Y = groups[['Interest']]\n",
    "## fit a OLS model with intercept on TV and Radio\n",
    "X = sm.add_constant(X)\n",
    "est = sm.OLS(Y, X).fit()\n",
    "\n",
    "est.summary()"
   ]
  },
  {
   "cell_type": "code",
   "execution_count": null,
   "metadata": {
    "collapsed": true
   },
   "outputs": [],
   "source": []
  }
 ],
 "metadata": {
  "kernelspec": {
   "display_name": "Python [Root]",
   "language": "python",
   "name": "Python [Root]"
  },
  "language_info": {
   "codemirror_mode": {
    "name": "ipython",
    "version": 3
   },
   "file_extension": ".py",
   "mimetype": "text/x-python",
   "name": "python",
   "nbconvert_exporter": "python",
   "pygments_lexer": "ipython3",
   "version": "3.5.2"
  }
 },
 "nbformat": 4,
 "nbformat_minor": 0
}
