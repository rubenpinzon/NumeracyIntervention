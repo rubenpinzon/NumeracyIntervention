{
 "cells": [
  {
   "cell_type": "markdown",
   "metadata": {
    "collapsed": false
   },
   "source": [
    "# Numeracy Intervention Analysis File\n",
    "\n",
    "This file is the companion of the manuscript titled \"Numeracy intervention for remedying the impact of school mobility\", submitted to the University of Sunderland as assessment of module EDE314 Experiences of Teaching\"."
   ]
  },
  {
   "cell_type": "code",
   "execution_count": 3,
   "metadata": {
    "collapsed": false
   },
   "outputs": [
    {
     "name": "stdout",
     "output_type": "stream",
     "text": [
      "Concept Utility with 3 questions\n",
      "*****************************I think what we are studying in introduction to robotics class is useful to know.\n",
      "******************************************************I find the content of this course personally meaningful.\n",
      "*************************************I can see how what I learn from robotics and engineering applies to life.\n",
      "Concept Success with 2 questions\n",
      "****************************************************************************I expect to do well in this class.\n",
      "****************Considering the difficulty of this course and my skills, I think I will do well in this class.\n",
      "Concept Interest with 3 questions\n",
      "******************************************************************I think the field of robotics is interesting\n",
      "***********************************************To be honest, I just don’t find science/engineering interesting\n",
      "*****************************************************I think what we’re learning in this class is interesting.\n",
      "Concept Mastery with 2 questions\n",
      "********The most important thing for me in this course is to understand the content as thoroughly as possible.\n",
      "****************************************Mastering the material in Introduction to robotics is important to me.\n",
      "Concept Performance with 2 questions\n",
      "*******************************************It is important for me to do well compared to others in this class.\n",
      "********************************************************I just want to avoid getting a low grade in this class\n"
     ]
    }
   ],
   "source": [
    "import pandas as pd\n",
    "import numpy as np\n",
    "import statsmodels.api as sm\n",
    "import statsmodels.formula.api as smf\n",
    "import matplotlib.pyplot as plt\n",
    "import warnings\n",
    "warnings.filterwarnings('ignore')\n",
    "\n",
    "%matplotlib inline\n",
    "\n",
    "# Mapping from concepts to questions in the survey\n",
    "labels2q = {'Success': (1, 2), 'Interest': (3, 4, 5), 'Utility': (6, 13, 7), 'Mastery': (8, 9), 'Performance': (10, 11)}\n",
    "# questions that have a reversed scale (1-10)\n",
    "reverse = 4\n",
    "\n",
    "df = pd.read_csv('Survey Learning.csv')\n",
    "questions = list(df.columns.values)\n",
    "#reverse score of questions with the reversed scale\n",
    "df.loc[:,questions[reverse]] = 10 - df[[reverse]]\n",
    "\n",
    "# calculate the total scores for each group concept.\n",
    "groups = pd.DataFrame()\n",
    "for name, q in labels2q.items():\n",
    "    print('Concept {} with {} questions'.format(name, len(q)))\n",
    "    for qs in q:\n",
    "        print(questions[qs].rjust(110,'*'))\n",
    "    totalScore = df[list(q)].sum(axis=1)\n",
    "    groups[name] = totalScore   \n",
    "\n",
    "N = int(groups[[0]].count())"
   ]
  },
  {
   "cell_type": "code",
   "execution_count": 4,
   "metadata": {
    "collapsed": false
   },
   "outputs": [
    {
     "data": {
      "text/html": [
       "<div>\n",
       "<table border=\"1\" class=\"dataframe\">\n",
       "  <thead>\n",
       "    <tr style=\"text-align: right;\">\n",
       "      <th></th>\n",
       "      <th>Utility</th>\n",
       "      <th>Success</th>\n",
       "      <th>Interest</th>\n",
       "      <th>Mastery</th>\n",
       "      <th>Performance</th>\n",
       "    </tr>\n",
       "  </thead>\n",
       "  <tbody>\n",
       "    <tr>\n",
       "      <th>0</th>\n",
       "      <td>15</td>\n",
       "      <td>12</td>\n",
       "      <td>20</td>\n",
       "      <td>10</td>\n",
       "      <td>7</td>\n",
       "    </tr>\n",
       "    <tr>\n",
       "      <th>1</th>\n",
       "      <td>17</td>\n",
       "      <td>9</td>\n",
       "      <td>18</td>\n",
       "      <td>11</td>\n",
       "      <td>11</td>\n",
       "    </tr>\n",
       "    <tr>\n",
       "      <th>2</th>\n",
       "      <td>19</td>\n",
       "      <td>12</td>\n",
       "      <td>22</td>\n",
       "      <td>13</td>\n",
       "      <td>14</td>\n",
       "    </tr>\n",
       "    <tr>\n",
       "      <th>3</th>\n",
       "      <td>21</td>\n",
       "      <td>12</td>\n",
       "      <td>23</td>\n",
       "      <td>13</td>\n",
       "      <td>12</td>\n",
       "    </tr>\n",
       "    <tr>\n",
       "      <th>4</th>\n",
       "      <td>18</td>\n",
       "      <td>11</td>\n",
       "      <td>22</td>\n",
       "      <td>12</td>\n",
       "      <td>2</td>\n",
       "    </tr>\n",
       "    <tr>\n",
       "      <th>5</th>\n",
       "      <td>19</td>\n",
       "      <td>11</td>\n",
       "      <td>20</td>\n",
       "      <td>12</td>\n",
       "      <td>12</td>\n",
       "    </tr>\n",
       "    <tr>\n",
       "      <th>6</th>\n",
       "      <td>17</td>\n",
       "      <td>11</td>\n",
       "      <td>20</td>\n",
       "      <td>14</td>\n",
       "      <td>11</td>\n",
       "    </tr>\n",
       "    <tr>\n",
       "      <th>7</th>\n",
       "      <td>21</td>\n",
       "      <td>12</td>\n",
       "      <td>23</td>\n",
       "      <td>14</td>\n",
       "      <td>14</td>\n",
       "    </tr>\n",
       "    <tr>\n",
       "      <th>8</th>\n",
       "      <td>18</td>\n",
       "      <td>11</td>\n",
       "      <td>22</td>\n",
       "      <td>14</td>\n",
       "      <td>14</td>\n",
       "    </tr>\n",
       "    <tr>\n",
       "      <th>9</th>\n",
       "      <td>21</td>\n",
       "      <td>14</td>\n",
       "      <td>23</td>\n",
       "      <td>14</td>\n",
       "      <td>7</td>\n",
       "    </tr>\n",
       "    <tr>\n",
       "      <th>10</th>\n",
       "      <td>14</td>\n",
       "      <td>12</td>\n",
       "      <td>19</td>\n",
       "      <td>11</td>\n",
       "      <td>10</td>\n",
       "    </tr>\n",
       "    <tr>\n",
       "      <th>11</th>\n",
       "      <td>21</td>\n",
       "      <td>13</td>\n",
       "      <td>21</td>\n",
       "      <td>13</td>\n",
       "      <td>10</td>\n",
       "    </tr>\n",
       "    <tr>\n",
       "      <th>12</th>\n",
       "      <td>18</td>\n",
       "      <td>14</td>\n",
       "      <td>23</td>\n",
       "      <td>13</td>\n",
       "      <td>11</td>\n",
       "    </tr>\n",
       "    <tr>\n",
       "      <th>13</th>\n",
       "      <td>21</td>\n",
       "      <td>13</td>\n",
       "      <td>23</td>\n",
       "      <td>14</td>\n",
       "      <td>14</td>\n",
       "    </tr>\n",
       "    <tr>\n",
       "      <th>14</th>\n",
       "      <td>21</td>\n",
       "      <td>14</td>\n",
       "      <td>23</td>\n",
       "      <td>14</td>\n",
       "      <td>11</td>\n",
       "    </tr>\n",
       "  </tbody>\n",
       "</table>\n",
       "</div>"
      ],
      "text/plain": [
       "    Utility  Success  Interest  Mastery  Performance\n",
       "0        15       12        20       10            7\n",
       "1        17        9        18       11           11\n",
       "2        19       12        22       13           14\n",
       "3        21       12        23       13           12\n",
       "4        18       11        22       12            2\n",
       "5        19       11        20       12           12\n",
       "6        17       11        20       14           11\n",
       "7        21       12        23       14           14\n",
       "8        18       11        22       14           14\n",
       "9        21       14        23       14            7\n",
       "10       14       12        19       11           10\n",
       "11       21       13        21       13           10\n",
       "12       18       14        23       13           11\n",
       "13       21       13        23       14           14\n",
       "14       21       14        23       14           11"
      ]
     },
     "execution_count": 4,
     "metadata": {},
     "output_type": "execute_result"
    }
   ],
   "source": [
    "# Show the concepts and scores\n",
    "groups"
   ]
  },
  {
   "cell_type": "markdown",
   "metadata": {},
   "source": [
    "## Calculate Cronbach's Alpha\n",
    "\n",
    "Cronbach's alpha ($\\alpha$) is also include to assess the consistency of these values under the implicit assumption that the averaged correlation of a set of self-reported values is an accurate estimator of the set of items that belong to a certain construct. A Cronbach's alpha value close to one indicates that the set of values from the survey correspond to the same concept. Conversely, a small $\\alpha$ value suggest that the survey has a low number of questions or poor interrelatedness \\parencite{tavakol2011making}. $\\alpha$ is calculated as follows:\n",
    "$$\\alpha = \\frac{K}{K-1} \\left(1-\\frac{\\sum_{i=1}^K \\sigma^2_{Y_i}}{ \\sigma^2_X}\\right)$$"
   ]
  },
  {
   "cell_type": "code",
   "execution_count": 5,
   "metadata": {
    "collapsed": false
   },
   "outputs": [
    {
     "name": "stdout",
     "output_type": "stream",
     "text": [
      "Concept: Utility         with Cronbach' alpha of 0.777\n",
      "Concept: Success         with Cronbach' alpha of 0.564\n",
      "Concept: Interest        with Cronbach' alpha of 0.795\n",
      "Concept: Mastery         with Cronbach' alpha of 0.798\n",
      "Concept: Performance     with Cronbach' alpha of 0.492\n"
     ]
    }
   ],
   "source": [
    "for name, q in labels2q.items():\n",
    "    sigmaY = df[list(q)].var(axis=0)\n",
    "    sigmaX = df[list(q)].sum(axis=1).var()\n",
    "    K = len(q)\n",
    "    alpha = K/(K-1)*(1-sigmaY.sum()/sigmaX)\n",
    "    print('Concept: {:15} with Cronbach\\' alpha of {:.3}'.format(name,alpha))\n"
   ]
  },
  {
   "cell_type": "markdown",
   "metadata": {},
   "source": [
    "## High and low expentancy of success groups\n",
    "\n",
    "Two diferent groups are considered in here, a groups with low expentancy of success (-1 s.d) and high expentancy of success (+1 s.d)."
   ]
  },
  {
   "cell_type": "code",
   "execution_count": 6,
   "metadata": {
    "collapsed": false
   },
   "outputs": [
    {
     "name": "stdout",
     "output_type": "stream",
     "text": [
      "Thresholds for low (11.0) and high (13.0) expentancy groups\n"
     ]
    },
    {
     "data": {
      "text/html": [
       "<div>\n",
       "<table border=\"1\" class=\"dataframe\">\n",
       "  <thead>\n",
       "    <tr style=\"text-align: right;\">\n",
       "      <th></th>\n",
       "      <th>Utility</th>\n",
       "      <th>Success</th>\n",
       "      <th>Interest</th>\n",
       "      <th>Mastery</th>\n",
       "      <th>Performance</th>\n",
       "      <th>labels</th>\n",
       "    </tr>\n",
       "  </thead>\n",
       "  <tbody>\n",
       "    <tr>\n",
       "      <th>0</th>\n",
       "      <td>15</td>\n",
       "      <td>12</td>\n",
       "      <td>20</td>\n",
       "      <td>10</td>\n",
       "      <td>7</td>\n",
       "      <td></td>\n",
       "    </tr>\n",
       "    <tr>\n",
       "      <th>1</th>\n",
       "      <td>17</td>\n",
       "      <td>9</td>\n",
       "      <td>18</td>\n",
       "      <td>11</td>\n",
       "      <td>11</td>\n",
       "      <td>low</td>\n",
       "    </tr>\n",
       "    <tr>\n",
       "      <th>2</th>\n",
       "      <td>19</td>\n",
       "      <td>12</td>\n",
       "      <td>22</td>\n",
       "      <td>13</td>\n",
       "      <td>14</td>\n",
       "      <td></td>\n",
       "    </tr>\n",
       "    <tr>\n",
       "      <th>3</th>\n",
       "      <td>21</td>\n",
       "      <td>12</td>\n",
       "      <td>23</td>\n",
       "      <td>13</td>\n",
       "      <td>12</td>\n",
       "      <td></td>\n",
       "    </tr>\n",
       "    <tr>\n",
       "      <th>4</th>\n",
       "      <td>18</td>\n",
       "      <td>11</td>\n",
       "      <td>22</td>\n",
       "      <td>12</td>\n",
       "      <td>2</td>\n",
       "      <td>low</td>\n",
       "    </tr>\n",
       "    <tr>\n",
       "      <th>5</th>\n",
       "      <td>19</td>\n",
       "      <td>11</td>\n",
       "      <td>20</td>\n",
       "      <td>12</td>\n",
       "      <td>12</td>\n",
       "      <td>low</td>\n",
       "    </tr>\n",
       "    <tr>\n",
       "      <th>6</th>\n",
       "      <td>17</td>\n",
       "      <td>11</td>\n",
       "      <td>20</td>\n",
       "      <td>14</td>\n",
       "      <td>11</td>\n",
       "      <td>low</td>\n",
       "    </tr>\n",
       "    <tr>\n",
       "      <th>7</th>\n",
       "      <td>21</td>\n",
       "      <td>12</td>\n",
       "      <td>23</td>\n",
       "      <td>14</td>\n",
       "      <td>14</td>\n",
       "      <td></td>\n",
       "    </tr>\n",
       "    <tr>\n",
       "      <th>8</th>\n",
       "      <td>18</td>\n",
       "      <td>11</td>\n",
       "      <td>22</td>\n",
       "      <td>14</td>\n",
       "      <td>14</td>\n",
       "      <td>low</td>\n",
       "    </tr>\n",
       "    <tr>\n",
       "      <th>9</th>\n",
       "      <td>21</td>\n",
       "      <td>14</td>\n",
       "      <td>23</td>\n",
       "      <td>14</td>\n",
       "      <td>7</td>\n",
       "      <td>high</td>\n",
       "    </tr>\n",
       "    <tr>\n",
       "      <th>10</th>\n",
       "      <td>14</td>\n",
       "      <td>12</td>\n",
       "      <td>19</td>\n",
       "      <td>11</td>\n",
       "      <td>10</td>\n",
       "      <td></td>\n",
       "    </tr>\n",
       "    <tr>\n",
       "      <th>11</th>\n",
       "      <td>21</td>\n",
       "      <td>13</td>\n",
       "      <td>21</td>\n",
       "      <td>13</td>\n",
       "      <td>10</td>\n",
       "      <td>high</td>\n",
       "    </tr>\n",
       "    <tr>\n",
       "      <th>12</th>\n",
       "      <td>18</td>\n",
       "      <td>14</td>\n",
       "      <td>23</td>\n",
       "      <td>13</td>\n",
       "      <td>11</td>\n",
       "      <td>high</td>\n",
       "    </tr>\n",
       "    <tr>\n",
       "      <th>13</th>\n",
       "      <td>21</td>\n",
       "      <td>13</td>\n",
       "      <td>23</td>\n",
       "      <td>14</td>\n",
       "      <td>14</td>\n",
       "      <td>high</td>\n",
       "    </tr>\n",
       "    <tr>\n",
       "      <th>14</th>\n",
       "      <td>21</td>\n",
       "      <td>14</td>\n",
       "      <td>23</td>\n",
       "      <td>14</td>\n",
       "      <td>11</td>\n",
       "      <td>high</td>\n",
       "    </tr>\n",
       "  </tbody>\n",
       "</table>\n",
       "</div>"
      ],
      "text/plain": [
       "    Utility  Success  Interest  Mastery  Performance labels\n",
       "0        15       12        20       10            7       \n",
       "1        17        9        18       11           11    low\n",
       "2        19       12        22       13           14       \n",
       "3        21       12        23       13           12       \n",
       "4        18       11        22       12            2    low\n",
       "5        19       11        20       12           12    low\n",
       "6        17       11        20       14           11    low\n",
       "7        21       12        23       14           14       \n",
       "8        18       11        22       14           14    low\n",
       "9        21       14        23       14            7   high\n",
       "10       14       12        19       11           10       \n",
       "11       21       13        21       13           10   high\n",
       "12       18       14        23       13           11   high\n",
       "13       21       13        23       14           14   high\n",
       "14       21       14        23       14           11   high"
      ]
     },
     "execution_count": 6,
     "metadata": {},
     "output_type": "execute_result"
    }
   ],
   "source": [
    "meanSuccess = groups[['Success']].mean()\n",
    "sdSuccess = groups[['Success']].std()\n",
    "lowExpThres = float(np.ceil(meanSuccess - sdSuccess))\n",
    "highExpThres = float(np.floor(meanSuccess + sdSuccess))\n",
    "\n",
    "print('Thresholds for low ({}) and high ({}) expentancy groups'.format(lowExpThres, highExpThres))\n",
    "\n",
    "label = ['' for n in range(N)]\n",
    "for i, l in enumerate((groups[['Success']] <= lowExpThres).iterrows()):\n",
    "    if l[1][0]:label[i] = 'low'\n",
    "for i, h in enumerate((groups[['Success']] >= highExpThres).iterrows()):\n",
    "    if h[1][0]:label[i] = 'high'\n",
    "\n",
    "# encode df.famhist as a numeric via pd.Factor\n",
    "groups['labels'] = pd.Categorical(label)\n",
    "groups"
   ]
  },
  {
   "cell_type": "markdown",
   "metadata": {},
   "source": [
    "## Multiple regression modeling\n",
    "\n",
    "The multiple regression model describes the score values as a weighted sum of the predictors.The first model correspond to the the two variables Success and Mastery and how they predict the scores is:\n",
    "\n",
    "$Interest=\\beta_0+\\beta_1\\cdot Success$"
   ]
  },
  {
   "cell_type": "code",
   "execution_count": 7,
   "metadata": {
    "collapsed": false
   },
   "outputs": [
    {
     "data": {
      "text/html": [
       "<table class=\"simpletable\">\n",
       "<tr>\n",
       "      <td></td>         <th>coef</th>     <th>std err</th>      <th>t</th>      <th>P>|t|</th> <th>[95.0% Conf. Int.]</th> \n",
       "</tr>\n",
       "<tr>\n",
       "  <th>Intercept</th> <td>   11.3713</td> <td>    2.965</td> <td>    3.835</td> <td> 0.002</td> <td>    4.966    17.777</td>\n",
       "</tr>\n",
       "<tr>\n",
       "  <th>Success</th>   <td>    0.8366</td> <td>    0.244</td> <td>    3.426</td> <td> 0.005</td> <td>    0.309     1.364</td>\n",
       "</tr>\n",
       "</table>"
      ],
      "text/plain": [
       "<IPython.core.display.HTML object>"
      ]
     },
     "execution_count": 7,
     "metadata": {},
     "output_type": "execute_result"
    }
   ],
   "source": [
    "est = smf.ols(formula='Interest ~ Success', data=groups).fit()\n",
    "\n",
    "from IPython.core.display import HTML\n",
    "def short_summary(est):\n",
    "    return HTML(est.summary().tables[1].as_html())\n",
    "\n",
    "short_summary(est)\n"
   ]
  },
  {
   "cell_type": "code",
   "execution_count": 8,
   "metadata": {
    "collapsed": false
   },
   "outputs": [
    {
     "data": {
      "text/plain": [
       "[<matplotlib.lines.Line2D at 0xb056400>]"
      ]
     },
     "execution_count": 8,
     "metadata": {},
     "output_type": "execute_result"
    },
    {
     "data": {
      "image/png": "[encoded data removed]",
      "text/plain": [
       "<matplotlib.figure.Figure at 0xb056390>"
      ]
     },
     "metadata": {},
     "output_type": "display_data"
    }
   ],
   "source": [
    "Success_linspace = np.linspace(groups.Success.min(), groups.Success.max(), 100)\n",
    "\n",
    "plt.xlabel('Success')\n",
    "plt.ylabel('Interest')\n",
    "plt.scatter(groups.Success, groups.Interest, alpha=0.3)\n",
    "plt.plot(Success_linspace, est.params[0] + est.params[1] * Success_linspace, 'r')"
   ]
  },
  {
   "cell_type": "markdown",
   "metadata": {},
   "source": [
    "## Model \\#2:  Prediction of Interest given Performance-approach goals $P(Interest | Performance)$\n",
    "$Interest=\\beta_0+\\beta_1\\cdot Performance$"
   ]
  },
  {
   "cell_type": "code",
   "execution_count": 17,
   "metadata": {
    "collapsed": false
   },
   "outputs": [
    {
     "data": {
      "text/html": [
       "<table class=\"simpletable\">\n",
       "<tr>\n",
       "       <td></td>          <th>coef</th>     <th>std err</th>      <th>t</th>      <th>P>|t|</th> <th>[95.0% Conf. Int.]</th> \n",
       "</tr>\n",
       "<tr>\n",
       "  <th>Intercept</th>   <td>   20.7383</td> <td>    1.568</td> <td>   13.230</td> <td> 0.000</td> <td>   17.352    24.125</td>\n",
       "</tr>\n",
       "<tr>\n",
       "  <th>Performance</th> <td>    0.0683</td> <td>    0.141</td> <td>    0.485</td> <td> 0.636</td> <td>   -0.236     0.373</td>\n",
       "</tr>\n",
       "</table>"
      ],
      "text/plain": [
       "<IPython.core.display.HTML object>"
      ]
     },
     "execution_count": 17,
     "metadata": {},
     "output_type": "execute_result"
    }
   ],
   "source": [
    "est2 = smf.ols(formula='Interest ~ Performance', data=groups).fit()\n",
    "short_summary(est2)"
   ]
  },
  {
   "cell_type": "code",
   "execution_count": 18,
   "metadata": {
    "collapsed": false
   },
   "outputs": [
    {
     "data": {
      "text/plain": [
       "[<matplotlib.lines.Line2D at 0xbf20da0>]"
      ]
     },
     "execution_count": 18,
     "metadata": {},
     "output_type": "execute_result"
    },
    {
     "data": {
      "image/png": "[encoded data removed]",
      "text/plain": [
       "<matplotlib.figure.Figure at 0xbe9df60>"
      ]
     },
     "metadata": {},
     "output_type": "display_data"
    }
   ],
   "source": [
    "Performance_linspace = np.linspace(groups.Performance.min(), groups.Performance.max(), 100)\n",
    "\n",
    "plt.xlabel('Performance')\n",
    "plt.ylabel('Interest')\n",
    "plt.scatter(groups.Performance, groups.Interest, alpha=0.3)\n",
    "plt.plot(Performance_linspace, est2.params[0] + est2.params[1] * Performance_linspace, 'r')"
   ]
  },
  {
   "cell_type": "markdown",
   "metadata": {},
   "source": [
    "## Model \\#3:  Prediction of Interest given Mastery-approach goals $P(Interest | Mastery)$\n",
    "$Interest=\\beta_0+\\beta_1\\cdot Mastery$"
   ]
  },
  {
   "cell_type": "code",
   "execution_count": 19,
   "metadata": {
    "collapsed": false
   },
   "outputs": [
    {
     "data": {
      "text/html": [
       "<table class=\"simpletable\">\n",
       "<tr>\n",
       "      <td></td>         <th>coef</th>     <th>std err</th>      <th>t</th>      <th>P>|t|</th> <th>[95.0% Conf. Int.]</th> \n",
       "</tr>\n",
       "<tr>\n",
       "  <th>Intercept</th> <td>    9.7158</td> <td>    3.162</td> <td>    3.072</td> <td> 0.009</td> <td>    2.884    16.547</td>\n",
       "</tr>\n",
       "<tr>\n",
       "  <th>Mastery</th>   <td>    0.9180</td> <td>    0.246</td> <td>    3.734</td> <td> 0.003</td> <td>    0.387     1.449</td>\n",
       "</tr>\n",
       "</table>"
      ],
      "text/plain": [
       "<IPython.core.display.HTML object>"
      ]
     },
     "execution_count": 19,
     "metadata": {},
     "output_type": "execute_result"
    }
   ],
   "source": [
    "est3 = smf.ols(formula='Interest ~ Mastery', data=groups).fit()\n",
    "short_summary(est3)"
   ]
  },
  {
   "cell_type": "code",
   "execution_count": 20,
   "metadata": {
    "collapsed": false
   },
   "outputs": [
    {
     "data": {
      "text/plain": [
       "[<matplotlib.lines.Line2D at 0xbf07e48>]"
      ]
     },
     "execution_count": 20,
     "metadata": {},
     "output_type": "execute_result"
    },
    {
     "data": {
      "image/png": "[encoded data removed]",
      "text/plain": [
       "<matplotlib.figure.Figure at 0xbf69fd0>"
      ]
     },
     "metadata": {},
     "output_type": "display_data"
    }
   ],
   "source": [
    "Mastery_linspace = np.linspace(groups.Mastery.min(), groups.Performance.max(), 100)\n",
    "\n",
    "plt.xlabel('Mastery')\n",
    "plt.ylabel('Interest')\n",
    "plt.scatter(groups.Mastery, groups.Interest, alpha=0.3)\n",
    "plt.plot(Mastery_linspace, est3.params[0] + est3.params[1] * Mastery_linspace, 'r')"
   ]
  },
  {
   "cell_type": "markdown",
   "metadata": {},
   "source": [
    "## Model \\#4: Prediction of Interest given Utility value $P(Interest | Utility)$\n",
    "$Interest=\\beta_0+\\beta_1\\cdot Utility$"
   ]
  },
  {
   "cell_type": "code",
   "execution_count": 21,
   "metadata": {
    "collapsed": false
   },
   "outputs": [
    {
     "data": {
      "text/html": [
       "<table class=\"simpletable\">\n",
       "<tr>\n",
       "      <td></td>         <th>coef</th>     <th>std err</th>      <th>t</th>      <th>P>|t|</th> <th>[95.0% Conf. Int.]</th> \n",
       "</tr>\n",
       "<tr>\n",
       "  <th>Intercept</th> <td>   11.5000</td> <td>    2.602</td> <td>    4.420</td> <td> 0.001</td> <td>    5.880    17.120</td>\n",
       "</tr>\n",
       "<tr>\n",
       "  <th>Utility</th>   <td>    0.5320</td> <td>    0.138</td> <td>    3.858</td> <td> 0.002</td> <td>    0.234     0.830</td>\n",
       "</tr>\n",
       "</table>"
      ],
      "text/plain": [
       "<IPython.core.display.HTML object>"
      ]
     },
     "execution_count": 21,
     "metadata": {},
     "output_type": "execute_result"
    }
   ],
   "source": [
    "est4 = smf.ols(formula='Interest ~ Utility', data=groups).fit()\n",
    "short_summary(est4)"
   ]
  },
  {
   "cell_type": "code",
   "execution_count": 24,
   "metadata": {
    "collapsed": false
   },
   "outputs": [
    {
     "data": {
      "text/plain": [
       "[<matplotlib.lines.Line2D at 0xd2c2da0>]"
      ]
     },
     "execution_count": 24,
     "metadata": {},
     "output_type": "execute_result"
    },
    {
     "data": {
      "image/png": "[encoded data removed]",
      "text/plain": [
       "<matplotlib.figure.Figure at 0xd2c2908>"
      ]
     },
     "metadata": {},
     "output_type": "display_data"
    }
   ],
   "source": [
    "Utility_linspace = np.linspace(groups.Utility.min(), groups.Utility.max(), 100)\n",
    "\n",
    "plt.xlabel('Utility')\n",
    "plt.ylabel('Interest')\n",
    "plt.scatter(groups.Utility, groups.Interest, alpha=0.3)\n",
    "plt.plot(Utility_linspace, est4.params[0] + est4.params[1] * Utility_linspace, 'r')"
   ]
  },
  {
   "cell_type": "markdown",
   "metadata": {},
   "source": [
    "## Multiple regression modeling with categorical variables\n",
    "\n",
    "The multiple regression model describes the score values as a weighted sum of the predictors. Categorical variable $D$ is added to account for two groups in the observed data: a groups with high expectancy of success, and a groups with low expectancy of success. These groups are defined as 1 standard deviation above and below the mean. The regression model under this categorical variable and additive effects is expressed as:  \n",
    "\n",
    "$$Interest = \\beta_0 + \\beta_1 Success + \\alpha_1 D_1$$"
   ]
  },
  {
   "cell_type": "code",
   "execution_count": 27,
   "metadata": {
    "collapsed": false
   },
   "outputs": [
    {
     "data": {
      "text/html": [
       "<table class=\"simpletable\">\n",
       "<tr>\n",
       "        <td></td>           <th>coef</th>     <th>std err</th>      <th>t</th>      <th>P>|t|</th> <th>[95.0% Conf. Int.]</th> \n",
       "</tr>\n",
       "<tr>\n",
       "  <th>Intercept</th>     <td>    5.0364</td> <td>    7.624</td> <td>    0.661</td> <td> 0.522</td> <td>  -11.744    21.817</td>\n",
       "</tr>\n",
       "<tr>\n",
       "  <th>label[T.high]</th> <td>   -0.9818</td> <td>    1.317</td> <td>   -0.746</td> <td> 0.471</td> <td>   -3.879     1.916</td>\n",
       "</tr>\n",
       "<tr>\n",
       "  <th>label[T.low]</th>  <td>    0.9091</td> <td>    1.222</td> <td>    0.744</td> <td> 0.472</td> <td>   -1.780     3.598</td>\n",
       "</tr>\n",
       "<tr>\n",
       "  <th>Success</th>       <td>    1.3636</td> <td>    0.633</td> <td>    2.153</td> <td> 0.054</td> <td>   -0.030     2.758</td>\n",
       "</tr>\n",
       "</table>"
      ],
      "text/plain": [
       "<IPython.core.display.HTML object>"
      ]
     },
     "execution_count": 27,
     "metadata": {},
     "output_type": "execute_result"
    }
   ],
   "source": [
    "addEst = smf.ols(formula='Interest ~ Success  + label', data=groups).fit()\n",
    "short_summary(addEst)"
   ]
  },
  {
   "cell_type": "code",
   "execution_count": 28,
   "metadata": {
    "collapsed": false
   },
   "outputs": [
    {
     "data": {
      "text/plain": [
       "<matplotlib.legend.Legend at 0xd3d21d0>"
      ]
     },
     "execution_count": 28,
     "metadata": {},
     "output_type": "execute_result"
    },
    {
     "data": {
      "image/png": "[encoded data removed]",
      "text/plain": [
       "<matplotlib.figure.Figure at 0xd35bb70>"
      ]
     },
     "metadata": {},
     "output_type": "display_data"
    }
   ],
   "source": [
    "plt.xlabel('Success')\n",
    "plt.ylabel('Interest')\n",
    "plt.scatter(groups.Success, groups.Interest, alpha=0.3)\n",
    "plt.plot(Success_linspace, addEst.params[0] + addEst.params[3] * Success_linspace + addEst.params[2] * 0, 'r',label=\"Low Exp.\")\n",
    "plt.plot(Success_linspace, addEst.params[0] + addEst.params[3] * Success_linspace + addEst.params[2] * 1, 'g',label=\"High Exp.\")\n",
    "plt.legend(loc=4)"
   ]
  },
  {
   "cell_type": "markdown",
   "metadata": {},
   "source": [
    "## Categorical model \\#2: Interest given Performance-approach goals $P(Interest|Performance,D=High)$\n",
    "\n",
    "$$Interest = \\beta_0 + \\beta_1 Performance + \\alpha_1 D_1$$"
   ]
  },
  {
   "cell_type": "code",
   "execution_count": 30,
   "metadata": {
    "collapsed": false
   },
   "outputs": [
    {
     "data": {
      "text/html": [
       "<table class=\"simpletable\">\n",
       "<tr>\n",
       "        <td></td>           <th>coef</th>     <th>std err</th>      <th>t</th>      <th>P>|t|</th> <th>[95.0% Conf. Int.]</th> \n",
       "</tr>\n",
       "<tr>\n",
       "  <th>Intercept</th>     <td>   20.8238</td> <td>    1.641</td> <td>   12.691</td> <td> 0.000</td> <td>   17.212    24.435</td>\n",
       "</tr>\n",
       "<tr>\n",
       "  <th>label[T.high]</th> <td>    1.2404</td> <td>    1.000</td> <td>    1.240</td> <td> 0.241</td> <td>   -0.961     3.442</td>\n",
       "</tr>\n",
       "<tr>\n",
       "  <th>label[T.low]</th>  <td>   -0.9292</td> <td>    1.012</td> <td>   -0.919</td> <td> 0.378</td> <td>   -3.156     1.297</td>\n",
       "</tr>\n",
       "<tr>\n",
       "  <th>Performance</th>   <td>    0.0505</td> <td>    0.130</td> <td>    0.389</td> <td> 0.705</td> <td>   -0.236     0.337</td>\n",
       "</tr>\n",
       "</table>"
      ],
      "text/plain": [
       "<IPython.core.display.HTML object>"
      ]
     },
     "execution_count": 30,
     "metadata": {},
     "output_type": "execute_result"
    }
   ],
   "source": [
    "addEst2 = smf.ols(formula='Interest ~ Performance + label', data=groups).fit()\n",
    "short_summary(addEst2)"
   ]
  },
  {
   "cell_type": "code",
   "execution_count": 34,
   "metadata": {
    "collapsed": false
   },
   "outputs": [
    {
     "data": {
      "text/plain": [
       "<matplotlib.legend.Legend at 0xd5bd240>"
      ]
     },
     "execution_count": 34,
     "metadata": {},
     "output_type": "execute_result"
    },
    {
     "data": {
      "image/png": "[encoded data removed]",
      "text/plain": [
       "<matplotlib.figure.Figure at 0xd50a7b8>"
      ]
     },
     "metadata": {},
     "output_type": "display_data"
    }
   ],
   "source": [
    "plt.xlabel('Performance')\n",
    "plt.ylabel('Interest')\n",
    "plt.scatter(groups.Performance, groups.Interest, alpha=0.3)\n",
    "plt.plot(Performance_linspace, addEst2.params[0] + addEst2.params[3] * Performance_linspace + addEst2.params[2] * 0, 'r',label=\"Low Exp.\")\n",
    "plt.plot(Performance_linspace, addEst2.params[0] + addEst2.params[3] * Performance_linspace + addEst2.params[2] * 1, 'g',label=\"High Exp.\")\n",
    "plt.legend(loc=4)"
   ]
  },
  {
   "cell_type": "markdown",
   "metadata": {},
   "source": [
    "## Categorical model \\#3: Interest given Mastery-approach goals  $P(Interest|Mastery,D=High)$\n",
    "\n",
    "$$Interest = \\beta_0 + \\beta_1 Mastery + \\alpha_1 D_1$$"
   ]
  },
  {
   "cell_type": "code",
   "execution_count": 35,
   "metadata": {
    "collapsed": false
   },
   "outputs": [
    {
     "data": {
      "text/html": [
       "<table class=\"simpletable\">\n",
       "<tr>\n",
       "        <td></td>           <th>coef</th>     <th>std err</th>      <th>t</th>      <th>P>|t|</th> <th>[95.0% Conf. Int.]</th> \n",
       "</tr>\n",
       "<tr>\n",
       "  <th>Intercept</th>     <td>   10.8521</td> <td>    3.095</td> <td>    3.507</td> <td> 0.005</td> <td>    4.041    17.663</td>\n",
       "</tr>\n",
       "<tr>\n",
       "  <th>label[T.high]</th> <td>   -0.0104</td> <td>    0.778</td> <td>   -0.013</td> <td> 0.990</td> <td>   -1.722     1.701</td>\n",
       "</tr>\n",
       "<tr>\n",
       "  <th>label[T.low]</th>  <td>   -1.3458</td> <td>    0.701</td> <td>   -1.919</td> <td> 0.081</td> <td>   -2.889     0.198</td>\n",
       "</tr>\n",
       "<tr>\n",
       "  <th>Mastery</th>       <td>    0.8646</td> <td>    0.250</td> <td>    3.452</td> <td> 0.005</td> <td>    0.313     1.416</td>\n",
       "</tr>\n",
       "</table>"
      ],
      "text/plain": [
       "<IPython.core.display.HTML object>"
      ]
     },
     "execution_count": 35,
     "metadata": {},
     "output_type": "execute_result"
    }
   ],
   "source": [
    "addEst3 = smf.ols(formula='Interest ~ Mastery + label', data=groups).fit()\n",
    "short_summary(addEst3)"
   ]
  },
  {
   "cell_type": "code",
   "execution_count": 36,
   "metadata": {
    "collapsed": false
   },
   "outputs": [
    {
     "data": {
      "text/plain": [
       "<matplotlib.legend.Legend at 0xd632da0>"
      ]
     },
     "execution_count": 36,
     "metadata": {},
     "output_type": "execute_result"
    },
    {
     "data": {
      "image/png": "[encoded data removed]",
      "text/plain": [
       "<matplotlib.figure.Figure at 0xd588630>"
      ]
     },
     "metadata": {},
     "output_type": "display_data"
    }
   ],
   "source": [
    "plt.xlabel('Mastery')\n",
    "plt.ylabel('Interest')\n",
    "plt.scatter(groups.Mastery, groups.Interest, alpha=0.3)\n",
    "plt.plot(Mastery_linspace, addEst3.params[0] + addEst3.params[3] * Mastery_linspace + addEst3.params[2] * 0, 'r',label=\"Low Exp.\")\n",
    "plt.plot(Mastery_linspace, addEst3.params[0] + addEst3.params[3] * Mastery_linspace + addEst3.params[2] * 1, 'g',label=\"High Exp.\")\n",
    "plt.legend(loc=4)"
   ]
  },
  {
   "cell_type": "markdown",
   "metadata": {},
   "source": [
    "## Categorical model \\#3: Interest given Utility value  $P(Interest|Utility,D=High)$\n",
    "\n",
    "$$Interest = \\beta_0 + \\beta_1 Utility + \\alpha_1 D_1$$"
   ]
  },
  {
   "cell_type": "code",
   "execution_count": 37,
   "metadata": {
    "collapsed": false
   },
   "outputs": [
    {
     "data": {
      "text/html": [
       "<table class=\"simpletable\">\n",
       "<tr>\n",
       "        <td></td>           <th>coef</th>     <th>std err</th>      <th>t</th>      <th>P>|t|</th> <th>[95.0% Conf. Int.]</th> \n",
       "</tr>\n",
       "<tr>\n",
       "  <th>Intercept</th>     <td>   13.0000</td> <td>    2.988</td> <td>    4.351</td> <td> 0.001</td> <td>    6.424    19.576</td>\n",
       "</tr>\n",
       "<tr>\n",
       "  <th>label[T.high]</th> <td>    0.0800</td> <td>    0.854</td> <td>    0.094</td> <td> 0.927</td> <td>   -1.800     1.960</td>\n",
       "</tr>\n",
       "<tr>\n",
       "  <th>label[T.low]</th>  <td>   -0.9067</td> <td>    0.760</td> <td>   -1.194</td> <td> 0.258</td> <td>   -2.579     0.765</td>\n",
       "</tr>\n",
       "<tr>\n",
       "  <th>Utility</th>       <td>    0.4667</td> <td>    0.163</td> <td>    2.858</td> <td> 0.016</td> <td>    0.107     0.826</td>\n",
       "</tr>\n",
       "</table>"
      ],
      "text/plain": [
       "<IPython.core.display.HTML object>"
      ]
     },
     "execution_count": 37,
     "metadata": {},
     "output_type": "execute_result"
    }
   ],
   "source": [
    "addEst4 = smf.ols(formula='Interest ~ Utility + label', data=groups).fit()\n",
    "short_summary(addEst4)"
   ]
  },
  {
   "cell_type": "code",
   "execution_count": 38,
   "metadata": {
    "collapsed": false
   },
   "outputs": [
    {
     "data": {
      "text/plain": [
       "<matplotlib.legend.Legend at 0xd6aec18>"
      ]
     },
     "execution_count": 38,
     "metadata": {},
     "output_type": "execute_result"
    },
    {
     "data": {
      "image/png": "[encoded data removed]",
      "text/plain": [
       "<matplotlib.figure.Figure at 0xd588908>"
      ]
     },
     "metadata": {},
     "output_type": "display_data"
    }
   ],
   "source": [
    "plt.xlabel('Utility')\n",
    "plt.ylabel('Interest')\n",
    "plt.scatter(groups.Utility, groups.Interest, alpha=0.3)\n",
    "plt.plot(Utility_linspace, addEst4.params[0] + addEst4.params[3] * Utility_linspace + addEst4.params[2] * 0, 'r',label=\"Low Exp.\")\n",
    "plt.plot(Utility_linspace, addEst4.params[0] + addEst4.params[3] * Utility_linspace + addEst4.params[2] * 1, 'g',label=\"High Exp.\")\n",
    "plt.legend(loc=4)"
   ]
  },
  {
   "cell_type": "markdown",
   "metadata": {},
   "source": [
    "## Multiple regression modeling with categorical variables and multiplicative effects\n",
    "\n",
    "The multiple regression model describes the score values as a weighted sum of the predictors. Multiplicative effects are considered in this model as shown below:  \n",
    "\n",
    "$$Interest = \\beta_0 + \\beta_1 Success_1 + \\alpha_1 D_1 + \\alpha_2 (D_1Success_1)$$"
   ]
  },
  {
   "cell_type": "code",
   "execution_count": 40,
   "metadata": {
    "collapsed": false
   },
   "outputs": [
    {
     "data": {
      "text/html": [
       "<table class=\"simpletable\">\n",
       "<tr>\n",
       "            <td></td>               <th>coef</th>     <th>std err</th>      <th>t</th>      <th>P>|t|</th> <th>[95.0% Conf. Int.]</th> \n",
       "</tr>\n",
       "<tr>\n",
       "  <th>Intercept</th>             <td>    4.5476</td> <td>    6.357</td> <td>    0.715</td> <td> 0.491</td> <td>   -9.618    18.713</td>\n",
       "</tr>\n",
       "<tr>\n",
       "  <th>label[T.high]</th>         <td>    4.4524</td> <td>   11.805</td> <td>    0.377</td> <td> 0.714</td> <td>  -21.850    30.755</td>\n",
       "</tr>\n",
       "<tr>\n",
       "  <th>label[T.low]</th>          <td>   -0.0476</td> <td>    7.936</td> <td>   -0.006</td> <td> 0.995</td> <td>  -17.730    17.635</td>\n",
       "</tr>\n",
       "<tr>\n",
       "  <th>Success</th>               <td>    1.4044</td> <td>    0.532</td> <td>    2.638</td> <td> 0.025</td> <td>    0.218     2.590</td>\n",
       "</tr>\n",
       "<tr>\n",
       "  <th>Success:label[T.high]</th> <td>   -0.4044</td> <td>    0.822</td> <td>   -0.492</td> <td> 0.633</td> <td>   -2.236     1.427</td>\n",
       "</tr>\n",
       "<tr>\n",
       "  <th>Success:label[T.low]</th>  <td>    0.0956</td> <td>    0.728</td> <td>    0.131</td> <td> 0.898</td> <td>   -1.526     1.717</td>\n",
       "</tr>\n",
       "</table>"
      ],
      "text/plain": [
       "<IPython.core.display.HTML object>"
      ]
     },
     "execution_count": 40,
     "metadata": {},
     "output_type": "execute_result"
    }
   ],
   "source": [
    "mulEst = smf.ols(formula='Interest ~ Success  * label', data=groups).fit()\n",
    "short_summary(mulEst)"
   ]
  },
  {
   "cell_type": "code",
   "execution_count": 42,
   "metadata": {
    "collapsed": false
   },
   "outputs": [
    {
     "data": {
      "text/plain": [
       "<matplotlib.legend.Legend at 0xd7b3eb8>"
      ]
     },
     "execution_count": 42,
     "metadata": {},
     "output_type": "execute_result"
    },
    {
     "data": {
      "image/png": "[encoded data removed]",
      "text/plain": [
       "<matplotlib.figure.Figure at 0xd704dd8>"
      ]
     },
     "metadata": {},
     "output_type": "display_data"
    }
   ],
   "source": [
    "plt.xlabel('Success')\n",
    "plt.ylabel('Interest')\n",
    "plt.scatter(groups.Success, groups.Interest, alpha=0.3)\n",
    "plt.plot(Success_linspace, mulEst.params[0] + mulEst.params[3] * Success_linspace + \n",
    "         mulEst.params[2] * 0 + mulEst.params[5] * 0 * Success_linspace, 'r',label=\"Low Exp.\")\n",
    "plt.plot(Success_linspace, mulEst.params[0] + mulEst.params[3] * Success_linspace + \n",
    "         mulEst.params[2] * 1 + mulEst.params[5] * 1 * Success_linspace, 'g',label=\"High Exp.\")\n",
    "plt.legend(loc=4)"
   ]
  },
  {
   "cell_type": "markdown",
   "metadata": {},
   "source": [
    "## Model with multiplicative effects \\#2: $P(Interest|Performance,D=High)$\n",
    "$$Interest = \\beta_0 + \\beta_1 Performance_1 + \\alpha_1 D_1 + \\alpha_2 (D_1Performance_1)$$"
   ]
  },
  {
   "cell_type": "code",
   "execution_count": 43,
   "metadata": {
    "collapsed": false
   },
   "outputs": [
    {
     "data": {
      "text/html": [
       "<table class=\"simpletable\">\n",
       "<tr>\n",
       "              <td></td>                 <th>coef</th>     <th>std err</th>      <th>t</th>      <th>P>|t|</th> <th>[95.0% Conf. Int.]</th> \n",
       "</tr>\n",
       "<tr>\n",
       "  <th>Intercept</th>                 <td>   16.1534</td> <td>    2.861</td> <td>    5.647</td> <td> 0.000</td> <td>    9.682    22.625</td>\n",
       "</tr>\n",
       "<tr>\n",
       "  <th>label[T.high]</th>             <td>    5.9418</td> <td>    4.240</td> <td>    1.401</td> <td> 0.195</td> <td>   -3.650    15.534</td>\n",
       "</tr>\n",
       "<tr>\n",
       "  <th>label[T.low]</th>              <td>    5.4094</td> <td>    3.324</td> <td>    1.627</td> <td> 0.138</td> <td>   -2.110    12.929</td>\n",
       "</tr>\n",
       "<tr>\n",
       "  <th>Performance</th>               <td>    0.4602</td> <td>    0.244</td> <td>    1.883</td> <td> 0.092</td> <td>   -0.093     1.013</td>\n",
       "</tr>\n",
       "<tr>\n",
       "  <th>Performance:label[T.high]</th> <td>   -0.4126</td> <td>    0.378</td> <td>   -1.090</td> <td> 0.304</td> <td>   -1.269     0.443</td>\n",
       "</tr>\n",
       "<tr>\n",
       "  <th>Performance:label[T.low]</th>  <td>   -0.5765</td> <td>    0.290</td> <td>   -1.987</td> <td> 0.078</td> <td>   -1.233     0.080</td>\n",
       "</tr>\n",
       "</table>"
      ],
      "text/plain": [
       "<IPython.core.display.HTML object>"
      ]
     },
     "execution_count": 43,
     "metadata": {},
     "output_type": "execute_result"
    }
   ],
   "source": [
    "mulEst2 = smf.ols(formula='Interest ~ Performance  * label', data=groups).fit()\n",
    "short_summary(mulEst2)"
   ]
  },
  {
   "cell_type": "code",
   "execution_count": 44,
   "metadata": {
    "collapsed": false
   },
   "outputs": [
    {
     "data": {
      "text/plain": [
       "<matplotlib.legend.Legend at 0xd82ed30>"
      ]
     },
     "execution_count": 44,
     "metadata": {},
     "output_type": "execute_result"
    },
    {
     "data": {
      "image/png": "[encoded data removed]",
      "text/plain": [
       "<matplotlib.figure.Figure at 0xd76efd0>"
      ]
     },
     "metadata": {},
     "output_type": "display_data"
    }
   ],
   "source": [
    "plt.xlabel('Performance')\n",
    "plt.ylabel('Interest')\n",
    "plt.scatter(groups.Performance, groups.Interest, alpha=0.3)\n",
    "plt.plot(Success_linspace, mulEst2.params[0] + mulEst2.params[3] * Performance_linspace + \n",
    "         mulEst2.params[2] * 0 + mulEst2.params[5] * 0 * Performance_linspace, 'r',label=\"Low Exp.\")\n",
    "plt.plot(Performance_linspace, mulEst2.params[0] + mulEst2.params[3] * Performance_linspace + \n",
    "         mulEst2.params[2] * 1 + mulEst2.params[5] * 1 * Performance_linspace, 'g',label=\"High Exp.\")\n",
    "plt.legend(loc=4)"
   ]
  },
  {
   "cell_type": "markdown",
   "metadata": {},
   "source": [
    "## Model with multiplicative effects \\#3: $P(Interest|Mastery,D=High)$\n",
    "$$Interest = \\beta_0 + \\beta_1 Mastery_1 + \\alpha_1 D_1 + \\alpha_2 (D_1Mastery_1)$$"
   ]
  },
  {
   "cell_type": "code",
   "execution_count": 46,
   "metadata": {
    "collapsed": false
   },
   "outputs": [
    {
     "data": {
      "text/html": [
       "<table class=\"simpletable\">\n",
       "<tr>\n",
       "            <td></td>               <th>coef</th>     <th>std err</th>      <th>t</th>      <th>P>|t|</th> <th>[95.0% Conf. Int.]</th> \n",
       "</tr>\n",
       "<tr>\n",
       "  <th>Intercept</th>             <td>    9.4259</td> <td>    4.459</td> <td>    2.114</td> <td> 0.064</td> <td>   -0.660    19.512</td>\n",
       "</tr>\n",
       "<tr>\n",
       "  <th>label[T.high]</th>         <td>   -0.4259</td> <td>   15.470</td> <td>   -0.028</td> <td> 0.979</td> <td>  -35.421    34.569</td>\n",
       "</tr>\n",
       "<tr>\n",
       "  <th>label[T.low]</th>          <td>    2.5741</td> <td>    7.177</td> <td>    0.359</td> <td> 0.728</td> <td>  -13.662    18.810</td>\n",
       "</tr>\n",
       "<tr>\n",
       "  <th>Mastery</th>               <td>    0.9815</td> <td>    0.363</td> <td>    2.705</td> <td> 0.024</td> <td>    0.161     1.802</td>\n",
       "</tr>\n",
       "<tr>\n",
       "  <th>Mastery:label[T.high]</th> <td>    0.0185</td> <td>    1.147</td> <td>    0.016</td> <td> 0.987</td> <td>   -2.577     2.614</td>\n",
       "</tr>\n",
       "<tr>\n",
       "  <th>Mastery:label[T.low]</th>  <td>   -0.3148</td> <td>    0.574</td> <td>   -0.549</td> <td> 0.597</td> <td>   -1.613     0.983</td>\n",
       "</tr>\n",
       "</table>"
      ],
      "text/plain": [
       "<IPython.core.display.HTML object>"
      ]
     },
     "execution_count": 46,
     "metadata": {},
     "output_type": "execute_result"
    }
   ],
   "source": [
    "mulEst3 = smf.ols(formula='Interest ~ Mastery  * label', data=groups).fit()\n",
    "short_summary(mulEst3)"
   ]
  },
  {
   "cell_type": "code",
   "execution_count": 47,
   "metadata": {
    "collapsed": false
   },
   "outputs": [
    {
     "data": {
      "text/plain": [
       "<matplotlib.legend.Legend at 0xd8c1748>"
      ]
     },
     "execution_count": 47,
     "metadata": {},
     "output_type": "execute_result"
    },
    {
     "data": {
      "image/png": "[encoded data removed]",
      "text/plain": [
       "<matplotlib.figure.Figure at 0xd858f60>"
      ]
     },
     "metadata": {},
     "output_type": "display_data"
    }
   ],
   "source": [
    "plt.xlabel('Mastery')\n",
    "plt.ylabel('Interest')\n",
    "plt.scatter(groups.Mastery, groups.Interest, alpha=0.3)\n",
    "plt.plot(Mastery_linspace, mulEst3.params[0] + mulEst3.params[3] * Mastery_linspace + \n",
    "         mulEst3.params[2] * 0 + mulEst3.params[5] * 0 * Mastery_linspace, 'r',label=\"Low Exp.\")\n",
    "plt.plot(Mastery_linspace, mulEst3.params[0] + mulEst3.params[3] * Mastery_linspace + \n",
    "         mulEst3.params[2] * 1 + mulEst3.params[5] * 1 * Mastery_linspace, 'g',label=\"High Exp.\")\n",
    "plt.legend(loc=4)"
   ]
  },
  {
   "cell_type": "markdown",
   "metadata": {},
   "source": [
    "## Model with multiplicative effects \\#4: $P(Interest|Utility,D=High)$\n",
    "$$Interest = \\beta_0 + \\beta_1 Utility_1 + \\alpha_1 D_1 + \\alpha_2 (D_1Utility_1)$$"
   ]
  },
  {
   "cell_type": "code",
   "execution_count": 48,
   "metadata": {
    "collapsed": false
   },
   "outputs": [
    {
     "data": {
      "text/html": [
       "<table class=\"simpletable\">\n",
       "<tr>\n",
       "            <td></td>               <th>coef</th>     <th>std err</th>      <th>t</th>      <th>P>|t|</th> <th>[95.0% Conf. Int.]</th> \n",
       "</tr>\n",
       "<tr>\n",
       "  <th>Intercept</th>             <td>   11.5818</td> <td>    3.209</td> <td>    3.609</td> <td> 0.006</td> <td>    4.323    18.841</td>\n",
       "</tr>\n",
       "<tr>\n",
       "  <th>label[T.high]</th>         <td>   14.4182</td> <td>    9.447</td> <td>    1.526</td> <td> 0.161</td> <td>   -6.953    35.790</td>\n",
       "</tr>\n",
       "<tr>\n",
       "  <th>label[T.low]</th>          <td>   -6.4390</td> <td>   12.830</td> <td>   -0.502</td> <td> 0.628</td> <td>  -35.463    22.585</td>\n",
       "</tr>\n",
       "<tr>\n",
       "  <th>Utility</th>               <td>    0.5455</td> <td>    0.176</td> <td>    3.101</td> <td> 0.013</td> <td>    0.148     0.943</td>\n",
       "</tr>\n",
       "<tr>\n",
       "  <th>Utility:label[T.high]</th> <td>   -0.7121</td> <td>    0.469</td> <td>   -1.518</td> <td> 0.163</td> <td>   -1.773     0.349</td>\n",
       "</tr>\n",
       "<tr>\n",
       "  <th>Utility:label[T.low]</th>  <td>    0.3117</td> <td>    0.719</td> <td>    0.433</td> <td> 0.675</td> <td>   -1.315     1.938</td>\n",
       "</tr>\n",
       "</table>"
      ],
      "text/plain": [
       "<IPython.core.display.HTML object>"
      ]
     },
     "execution_count": 48,
     "metadata": {},
     "output_type": "execute_result"
    }
   ],
   "source": [
    "mulEst4 = smf.ols(formula='Interest ~ Utility  * label', data=groups).fit()\n",
    "short_summary(mulEst4)"
   ]
  },
  {
   "cell_type": "code",
   "execution_count": 49,
   "metadata": {
    "collapsed": false
   },
   "outputs": [
    {
     "data": {
      "text/plain": [
       "<matplotlib.legend.Legend at 0xd93dac8>"
      ]
     },
     "execution_count": 49,
     "metadata": {},
     "output_type": "execute_result"
    },
    {
     "data": {
      "image/png": "[encoded data removed]",
      "text/plain": [
       "<matplotlib.figure.Figure at 0xd7fa128>"
      ]
     },
     "metadata": {},
     "output_type": "display_data"
    }
   ],
   "source": [
    "plt.xlabel('Utility')\n",
    "plt.ylabel('Interest')\n",
    "plt.scatter(groups.Utility, groups.Interest, alpha=0.3)\n",
    "plt.plot(Utility_linspace, mulEst4.params[0] + mulEst4.params[3] * Utility_linspace + \n",
    "         mulEst4.params[2] * 0 + mulEst4.params[5] * 0 * Utility_linspace, 'r',label=\"Low Exp.\")\n",
    "plt.plot(Utility_linspace, mulEst4.params[0] + mulEst4.params[3] * Utility_linspace + \n",
    "         mulEst4.params[2] * 1 + mulEst4.params[5] * 1 * Utility_linspace, 'g',label=\"High Exp.\")\n",
    "plt.legend(loc=4)"
   ]
  }
 ],
 "metadata": {
  "anaconda-cloud": {},
  "kernelspec": {
   "display_name": "Python [Root]",
   "language": "python",
   "name": "Python [Root]"
  },
  "language_info": {
   "codemirror_mode": {
    "name": "ipython",
    "version": 3
   },
   "file_extension": ".py",
   "mimetype": "text/x-python",
   "name": "python",
   "nbconvert_exporter": "python",
   "pygments_lexer": "ipython3",
   "version": "3.5.2"
  }
 },
 "nbformat": 4,
 "nbformat_minor": 0
}
