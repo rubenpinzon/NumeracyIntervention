{
 "cells": [
  {
   "cell_type": "markdown",
   "metadata": {
    "collapsed": false
   },
   "source": [
    "# Numeracy Intervention Analysis File\n",
    "\n",
    "This file is the companion of the manuscript titled \"Numeracy intervention for remedying the impact of school mobility\", submitted to the University of Sunderland as assessment of module EDE314 Experiences of Teaching\"."
   ]
  },
  {
   "cell_type": "code",
   "execution_count": 1,
   "metadata": {
    "collapsed": false
   },
   "outputs": [
    {
     "name": "stdout",
     "output_type": "stream",
     "text": [
      "Concept Mastery with 2 questions\n",
      "********The most important thing for me in this course is to understand the content as thoroughly as possible.\n",
      "****************************************Mastering the material in Introduction to robotics is important to me.\n",
      "Concept Performance with 2 questions\n",
      "*******************************************It is important for me to do well compared to others in this class.\n",
      "********************************************************I just want to avoid getting a low grade in this class\n",
      "Concept Interest with 3 questions\n",
      "******************************************************************I think the field of robotics is interesting\n",
      "*********************************************To be honest, I just don’t find science/engineering interesting\n",
      "***************************************************I think what we’re learning in this class is interesting.\n",
      "Concept Success with 2 questions\n",
      "****************************************************************************I expect to do well in this class.\n",
      "****************Considering the difficulty of this course and my skills, I think I will do well in this class.\n",
      "Concept Utility with 3 questions\n",
      "*****************************I think what we are studying in introduction to robotics class is useful to know.\n",
      "******************************************************I find the content of this course personally meaningful.\n",
      "*************************************I can see how what I learn from robotics and engineering applies to life.\n"
     ]
    }
   ],
   "source": [
    "import pandas as pd\n",
    "import numpy as np\n",
    "import statsmodels.api as sm\n",
    "import statsmodels.formula.api as smf\n",
    "import matplotlib.pyplot as plt\n",
    "import warnings\n",
    "warnings.filterwarnings('ignore')\n",
    "\n",
    "%matplotlib inline\n",
    "\n",
    "# Mapping from concepts to questions in the survey\n",
    "labels2q = {'Success': (1, 2), 'Interest': (3, 4, 5), 'Utility': (6, 13, 7), 'Mastery': (8, 9), 'Performance': (10, 11)}\n",
    "# questions that have a reversed scale (1-10)\n",
    "reverse = 4\n",
    "\n",
    "df = pd.read_csv('Survey Learning.csv')\n",
    "questions = list(df.columns.values)\n",
    "#reverse score of questions with the reversed scale\n",
    "df.loc[:,questions[reverse]] = 10 - df[[reverse]]\n",
    "\n",
    "# calculate the total scores for each group concept.\n",
    "groups = pd.DataFrame()\n",
    "for name, q in labels2q.items():\n",
    "    print('Concept {} with {} questions'.format(name, len(q)))\n",
    "    for qs in q:\n",
    "        print(questions[qs].rjust(110,'*'))\n",
    "    totalScore = df[list(q)].sum(axis=1)\n",
    "    groups[name] = totalScore   \n",
    "\n",
    "N = int(groups[[0]].count())"
   ]
  },
  {
   "cell_type": "code",
   "execution_count": 2,
   "metadata": {
    "collapsed": false
   },
   "outputs": [
    {
     "data": {
      "text/html": [
       "<div>\n",
       "<table border=\"1\" class=\"dataframe\">\n",
       "  <thead>\n",
       "    <tr style=\"text-align: right;\">\n",
       "      <th></th>\n",
       "      <th>Mastery</th>\n",
       "      <th>Performance</th>\n",
       "      <th>Interest</th>\n",
       "      <th>Success</th>\n",
       "      <th>Utility</th>\n",
       "    </tr>\n",
       "  </thead>\n",
       "  <tbody>\n",
       "    <tr>\n",
       "      <th>0</th>\n",
       "      <td>10</td>\n",
       "      <td>7</td>\n",
       "      <td>20</td>\n",
       "      <td>12</td>\n",
       "      <td>15</td>\n",
       "    </tr>\n",
       "    <tr>\n",
       "      <th>1</th>\n",
       "      <td>11</td>\n",
       "      <td>11</td>\n",
       "      <td>18</td>\n",
       "      <td>9</td>\n",
       "      <td>17</td>\n",
       "    </tr>\n",
       "    <tr>\n",
       "      <th>2</th>\n",
       "      <td>13</td>\n",
       "      <td>14</td>\n",
       "      <td>22</td>\n",
       "      <td>12</td>\n",
       "      <td>19</td>\n",
       "    </tr>\n",
       "    <tr>\n",
       "      <th>3</th>\n",
       "      <td>13</td>\n",
       "      <td>12</td>\n",
       "      <td>23</td>\n",
       "      <td>12</td>\n",
       "      <td>21</td>\n",
       "    </tr>\n",
       "    <tr>\n",
       "      <th>4</th>\n",
       "      <td>12</td>\n",
       "      <td>2</td>\n",
       "      <td>22</td>\n",
       "      <td>11</td>\n",
       "      <td>18</td>\n",
       "    </tr>\n",
       "    <tr>\n",
       "      <th>5</th>\n",
       "      <td>12</td>\n",
       "      <td>12</td>\n",
       "      <td>20</td>\n",
       "      <td>11</td>\n",
       "      <td>19</td>\n",
       "    </tr>\n",
       "    <tr>\n",
       "      <th>6</th>\n",
       "      <td>14</td>\n",
       "      <td>11</td>\n",
       "      <td>20</td>\n",
       "      <td>11</td>\n",
       "      <td>17</td>\n",
       "    </tr>\n",
       "    <tr>\n",
       "      <th>7</th>\n",
       "      <td>14</td>\n",
       "      <td>14</td>\n",
       "      <td>23</td>\n",
       "      <td>12</td>\n",
       "      <td>21</td>\n",
       "    </tr>\n",
       "    <tr>\n",
       "      <th>8</th>\n",
       "      <td>14</td>\n",
       "      <td>14</td>\n",
       "      <td>22</td>\n",
       "      <td>11</td>\n",
       "      <td>18</td>\n",
       "    </tr>\n",
       "    <tr>\n",
       "      <th>9</th>\n",
       "      <td>14</td>\n",
       "      <td>7</td>\n",
       "      <td>23</td>\n",
       "      <td>14</td>\n",
       "      <td>21</td>\n",
       "    </tr>\n",
       "    <tr>\n",
       "      <th>10</th>\n",
       "      <td>11</td>\n",
       "      <td>10</td>\n",
       "      <td>19</td>\n",
       "      <td>12</td>\n",
       "      <td>14</td>\n",
       "    </tr>\n",
       "    <tr>\n",
       "      <th>11</th>\n",
       "      <td>13</td>\n",
       "      <td>10</td>\n",
       "      <td>21</td>\n",
       "      <td>13</td>\n",
       "      <td>21</td>\n",
       "    </tr>\n",
       "    <tr>\n",
       "      <th>12</th>\n",
       "      <td>13</td>\n",
       "      <td>11</td>\n",
       "      <td>23</td>\n",
       "      <td>14</td>\n",
       "      <td>18</td>\n",
       "    </tr>\n",
       "    <tr>\n",
       "      <th>13</th>\n",
       "      <td>14</td>\n",
       "      <td>14</td>\n",
       "      <td>23</td>\n",
       "      <td>13</td>\n",
       "      <td>21</td>\n",
       "    </tr>\n",
       "    <tr>\n",
       "      <th>14</th>\n",
       "      <td>14</td>\n",
       "      <td>11</td>\n",
       "      <td>23</td>\n",
       "      <td>14</td>\n",
       "      <td>21</td>\n",
       "    </tr>\n",
       "  </tbody>\n",
       "</table>\n",
       "</div>"
      ],
      "text/plain": [
       "    Mastery  Performance  Interest  Success  Utility\n",
       "0        10            7        20       12       15\n",
       "1        11           11        18        9       17\n",
       "2        13           14        22       12       19\n",
       "3        13           12        23       12       21\n",
       "4        12            2        22       11       18\n",
       "5        12           12        20       11       19\n",
       "6        14           11        20       11       17\n",
       "7        14           14        23       12       21\n",
       "8        14           14        22       11       18\n",
       "9        14            7        23       14       21\n",
       "10       11           10        19       12       14\n",
       "11       13           10        21       13       21\n",
       "12       13           11        23       14       18\n",
       "13       14           14        23       13       21\n",
       "14       14           11        23       14       21"
      ]
     },
     "execution_count": 2,
     "metadata": {},
     "output_type": "execute_result"
    }
   ],
   "source": [
    "# Show the concepts and scores\n",
    "groups"
   ]
  },
  {
   "cell_type": "markdown",
   "metadata": {},
   "source": [
    "## Calculate Cronbach's Alpha\n",
    "\n",
    "Cronbach's alpha ($\\alpha$) is also include to assess the consistency of these values under the implicit assumption that the averaged correlation of a set of self-reported values is an accurate estimator of the set of items that belong to a certain construct. A Cronbach's alpha value close to one indicates that the set of values from the survey correspond to the same concept. Conversely, a small $\\alpha$ value suggest that the survey has a low number of questions or poor interrelatedness \\parencite{tavakol2011making}. $\\alpha$ is calculated as follows:\n",
    "$$\\alpha = \\frac{K}{K-1} \\left(1-\\frac{\\sum_{i=1}^K \\sigma^2_{Y_i}}{ \\sigma^2_X}\\right)$$"
   ]
  },
  {
   "cell_type": "code",
   "execution_count": 3,
   "metadata": {
    "collapsed": false
   },
   "outputs": [
    {
     "name": "stdout",
     "output_type": "stream",
     "text": [
      "Concept: Mastery         with Cronbach' alpha of 0.798\n",
      "Concept: Performance     with Cronbach' alpha of 0.492\n",
      "Concept: Interest        with Cronbach' alpha of 0.53\n",
      "Concept: Success         with Cronbach' alpha of 0.564\n",
      "Concept: Utility         with Cronbach' alpha of 0.518\n"
     ]
    }
   ],
   "source": [
    "for name, q in labels2q.items():\n",
    "    sigmaY = df[list(q)].var(axis=0)\n",
    "    sigmaX = df[list(q)].sum(axis=1).var()\n",
    "    K = len(q)\n",
    "    alpha = K/(K-1)*(1-sigmaY.sum()/sigmaX)\n",
    "    print('Concept: {:15} with Cronbach\\' alpha of {:.3}'.format(name,alpha))\n"
   ]
  },
  {
   "cell_type": "markdown",
   "metadata": {},
   "source": [
    "## High and low expentancy of success groups\n",
    "\n",
    "Two diferent groups are considered in here, a groups with low expentancy of success (-1 s.d) and high expentancy of success (+1 s.d)."
   ]
  },
  {
   "cell_type": "code",
   "execution_count": 4,
   "metadata": {
    "collapsed": false
   },
   "outputs": [
    {
     "name": "stdout",
     "output_type": "stream",
     "text": [
      "Thresholds for low (11.0) and high (13.0) expentancy groups\n"
     ]
    },
    {
     "data": {
      "text/html": [
       "<div>\n",
       "<table border=\"1\" class=\"dataframe\">\n",
       "  <thead>\n",
       "    <tr style=\"text-align: right;\">\n",
       "      <th></th>\n",
       "      <th>Mastery</th>\n",
       "      <th>Performance</th>\n",
       "      <th>Interest</th>\n",
       "      <th>Success</th>\n",
       "      <th>Utility</th>\n",
       "      <th>labels</th>\n",
       "    </tr>\n",
       "  </thead>\n",
       "  <tbody>\n",
       "    <tr>\n",
       "      <th>0</th>\n",
       "      <td>10</td>\n",
       "      <td>7</td>\n",
       "      <td>20</td>\n",
       "      <td>12</td>\n",
       "      <td>15</td>\n",
       "      <td></td>\n",
       "    </tr>\n",
       "    <tr>\n",
       "      <th>1</th>\n",
       "      <td>11</td>\n",
       "      <td>11</td>\n",
       "      <td>18</td>\n",
       "      <td>9</td>\n",
       "      <td>17</td>\n",
       "      <td>low</td>\n",
       "    </tr>\n",
       "    <tr>\n",
       "      <th>2</th>\n",
       "      <td>13</td>\n",
       "      <td>14</td>\n",
       "      <td>22</td>\n",
       "      <td>12</td>\n",
       "      <td>19</td>\n",
       "      <td></td>\n",
       "    </tr>\n",
       "    <tr>\n",
       "      <th>3</th>\n",
       "      <td>13</td>\n",
       "      <td>12</td>\n",
       "      <td>23</td>\n",
       "      <td>12</td>\n",
       "      <td>21</td>\n",
       "      <td></td>\n",
       "    </tr>\n",
       "    <tr>\n",
       "      <th>4</th>\n",
       "      <td>12</td>\n",
       "      <td>2</td>\n",
       "      <td>22</td>\n",
       "      <td>11</td>\n",
       "      <td>18</td>\n",
       "      <td>low</td>\n",
       "    </tr>\n",
       "    <tr>\n",
       "      <th>5</th>\n",
       "      <td>12</td>\n",
       "      <td>12</td>\n",
       "      <td>20</td>\n",
       "      <td>11</td>\n",
       "      <td>19</td>\n",
       "      <td>low</td>\n",
       "    </tr>\n",
       "    <tr>\n",
       "      <th>6</th>\n",
       "      <td>14</td>\n",
       "      <td>11</td>\n",
       "      <td>20</td>\n",
       "      <td>11</td>\n",
       "      <td>17</td>\n",
       "      <td>low</td>\n",
       "    </tr>\n",
       "    <tr>\n",
       "      <th>7</th>\n",
       "      <td>14</td>\n",
       "      <td>14</td>\n",
       "      <td>23</td>\n",
       "      <td>12</td>\n",
       "      <td>21</td>\n",
       "      <td></td>\n",
       "    </tr>\n",
       "    <tr>\n",
       "      <th>8</th>\n",
       "      <td>14</td>\n",
       "      <td>14</td>\n",
       "      <td>22</td>\n",
       "      <td>11</td>\n",
       "      <td>18</td>\n",
       "      <td>low</td>\n",
       "    </tr>\n",
       "    <tr>\n",
       "      <th>9</th>\n",
       "      <td>14</td>\n",
       "      <td>7</td>\n",
       "      <td>23</td>\n",
       "      <td>14</td>\n",
       "      <td>21</td>\n",
       "      <td>high</td>\n",
       "    </tr>\n",
       "    <tr>\n",
       "      <th>10</th>\n",
       "      <td>11</td>\n",
       "      <td>10</td>\n",
       "      <td>19</td>\n",
       "      <td>12</td>\n",
       "      <td>14</td>\n",
       "      <td></td>\n",
       "    </tr>\n",
       "    <tr>\n",
       "      <th>11</th>\n",
       "      <td>13</td>\n",
       "      <td>10</td>\n",
       "      <td>21</td>\n",
       "      <td>13</td>\n",
       "      <td>21</td>\n",
       "      <td>high</td>\n",
       "    </tr>\n",
       "    <tr>\n",
       "      <th>12</th>\n",
       "      <td>13</td>\n",
       "      <td>11</td>\n",
       "      <td>23</td>\n",
       "      <td>14</td>\n",
       "      <td>18</td>\n",
       "      <td>high</td>\n",
       "    </tr>\n",
       "    <tr>\n",
       "      <th>13</th>\n",
       "      <td>14</td>\n",
       "      <td>14</td>\n",
       "      <td>23</td>\n",
       "      <td>13</td>\n",
       "      <td>21</td>\n",
       "      <td>high</td>\n",
       "    </tr>\n",
       "    <tr>\n",
       "      <th>14</th>\n",
       "      <td>14</td>\n",
       "      <td>11</td>\n",
       "      <td>23</td>\n",
       "      <td>14</td>\n",
       "      <td>21</td>\n",
       "      <td>high</td>\n",
       "    </tr>\n",
       "  </tbody>\n",
       "</table>\n",
       "</div>"
      ],
      "text/plain": [
       "    Mastery  Performance  Interest  Success  Utility labels\n",
       "0        10            7        20       12       15       \n",
       "1        11           11        18        9       17    low\n",
       "2        13           14        22       12       19       \n",
       "3        13           12        23       12       21       \n",
       "4        12            2        22       11       18    low\n",
       "5        12           12        20       11       19    low\n",
       "6        14           11        20       11       17    low\n",
       "7        14           14        23       12       21       \n",
       "8        14           14        22       11       18    low\n",
       "9        14            7        23       14       21   high\n",
       "10       11           10        19       12       14       \n",
       "11       13           10        21       13       21   high\n",
       "12       13           11        23       14       18   high\n",
       "13       14           14        23       13       21   high\n",
       "14       14           11        23       14       21   high"
      ]
     },
     "execution_count": 4,
     "metadata": {},
     "output_type": "execute_result"
    }
   ],
   "source": [
    "meanSuccess = groups[['Success']].mean()\n",
    "sdSuccess = groups[['Success']].std()\n",
    "lowExpThres = float(np.ceil(meanSuccess - sdSuccess))\n",
    "highExpThres = float(np.floor(meanSuccess + sdSuccess))\n",
    "\n",
    "print('Thresholds for low ({}) and high ({}) expentancy groups'.format(lowExpThres, highExpThres))\n",
    "\n",
    "label = ['' for n in range(N)]\n",
    "for i, l in enumerate((groups[['Success']] <= lowExpThres).iterrows()):\n",
    "    if l[1][0]:label[i] = 'low'\n",
    "for i, h in enumerate((groups[['Success']] >= highExpThres).iterrows()):\n",
    "    if h[1][0]:label[i] = 'high'\n",
    "\n",
    "# encode df.famhist as a numeric via pd.Factor\n",
    "groups['labels'] = pd.Categorical(label)\n",
    "groups"
   ]
  },
  {
   "cell_type": "markdown",
   "metadata": {},
   "source": [
    "## Multiple regression with multiplicative interactions and categorical variables"
   ]
  },
  {
   "cell_type": "code",
   "execution_count": 37,
   "metadata": {
    "collapsed": false
   },
   "outputs": [
    {
     "data": {
      "text/html": [
       "<table class=\"simpletable\">\n",
       "<caption>OLS Regression Results</caption>\n",
       "<tr>\n",
       "  <th>Dep. Variable:</th>        <td>Interest</td>     <th>  R-squared:         </th> <td>   0.999</td>\n",
       "</tr>\n",
       "<tr>\n",
       "  <th>Model:</th>                   <td>OLS</td>       <th>  Adj. R-squared:    </th> <td>   0.984</td>\n",
       "</tr>\n",
       "<tr>\n",
       "  <th>Method:</th>             <td>Least Squares</td>  <th>  F-statistic:       </th> <td>   67.16</td>\n",
       "</tr>\n",
       "<tr>\n",
       "  <th>Date:</th>             <td>Sat, 24 Dec 2016</td> <th>  Prob (F-statistic):</th>  <td>0.0953</td> \n",
       "</tr>\n",
       "<tr>\n",
       "  <th>Time:</th>                 <td>14:50:05</td>     <th>  Log-Likelihood:    </th> <td>  22.209</td>\n",
       "</tr>\n",
       "<tr>\n",
       "  <th>No. Observations:</th>      <td>    15</td>      <th>  AIC:               </th> <td>  -16.42</td>\n",
       "</tr>\n",
       "<tr>\n",
       "  <th>Df Residuals:</th>          <td>     1</td>      <th>  BIC:               </th> <td>  -6.506</td>\n",
       "</tr>\n",
       "<tr>\n",
       "  <th>Df Model:</th>              <td>    13</td>      <th>                     </th>     <td> </td>   \n",
       "</tr>\n",
       "<tr>\n",
       "  <th>Covariance Type:</th>      <td>nonrobust</td>    <th>                     </th>     <td> </td>   \n",
       "</tr>\n",
       "</table>\n",
       "<table class=\"simpletable\">\n",
       "<tr>\n",
       "              <td></td>                 <th>coef</th>     <th>std err</th>      <th>t</th>      <th>P>|t|</th> <th>[95.0% Conf. Int.]</th> \n",
       "</tr>\n",
       "<tr>\n",
       "  <th>Intercept</th>                 <td>   -9.8205</td> <td>    2.797</td> <td>   -3.511</td> <td> 0.177</td> <td>  -45.361    25.720</td>\n",
       "</tr>\n",
       "<tr>\n",
       "  <th>label[T.high]</th>             <td>   18.8205</td> <td>    4.596</td> <td>    4.095</td> <td> 0.152</td> <td>  -39.575    77.216</td>\n",
       "</tr>\n",
       "<tr>\n",
       "  <th>label[T.low]</th>              <td>  -29.4652</td> <td>    4.327</td> <td>   -6.809</td> <td> 0.093</td> <td>  -84.448    25.517</td>\n",
       "</tr>\n",
       "<tr>\n",
       "  <th>Success</th>                   <td>    1.9161</td> <td>    0.299</td> <td>    6.398</td> <td> 0.099</td> <td>   -1.889     5.721</td>\n",
       "</tr>\n",
       "<tr>\n",
       "  <th>Success:label[T.high]</th>     <td>   -1.9161</td> <td>    0.393</td> <td>   -4.876</td> <td> 0.129</td> <td>   -6.909     3.077</td>\n",
       "</tr>\n",
       "<tr>\n",
       "  <th>Success:label[T.low]</th>      <td>   -6.0590</td> <td>    0.838</td> <td>   -7.230</td> <td> 0.087</td> <td>  -16.707     4.589</td>\n",
       "</tr>\n",
       "<tr>\n",
       "  <th>Performance</th>               <td>    0.0727</td> <td>    0.176</td> <td>    0.413</td> <td> 0.751</td> <td>   -2.167     2.313</td>\n",
       "</tr>\n",
       "<tr>\n",
       "  <th>Performance:label[T.high]</th> <td>   -0.0727</td> <td>    0.192</td> <td>   -0.379</td> <td> 0.769</td> <td>   -2.509     2.363</td>\n",
       "</tr>\n",
       "<tr>\n",
       "  <th>Performance:label[T.low]</th>  <td>   -0.6442</td> <td>    0.187</td> <td>   -3.454</td> <td> 0.179</td> <td>   -3.014     1.726</td>\n",
       "</tr>\n",
       "<tr>\n",
       "  <th>Mastery</th>                   <td>   -0.3727</td> <td>    0.493</td> <td>   -0.756</td> <td> 0.588</td> <td>   -6.635     5.889</td>\n",
       "</tr>\n",
       "<tr>\n",
       "  <th>Mastery:label[T.high]</th>     <td>    2.3727</td> <td>    0.652</td> <td>    3.641</td> <td> 0.171</td> <td>   -5.908    10.653</td>\n",
       "</tr>\n",
       "<tr>\n",
       "  <th>Mastery:label[T.low]</th>      <td>    3.8013</td> <td>    0.632</td> <td>    6.016</td> <td> 0.105</td> <td>   -4.227    11.829</td>\n",
       "</tr>\n",
       "<tr>\n",
       "  <th>Utility</th>                   <td>    0.6636</td> <td>    0.119</td> <td>    5.582</td> <td> 0.113</td> <td>   -0.847     2.174</td>\n",
       "</tr>\n",
       "<tr>\n",
       "  <th>Utility:label[T.high]</th>     <td>   -1.3303</td> <td>    0.234</td> <td>   -5.696</td> <td> 0.111</td> <td>   -4.298     1.637</td>\n",
       "</tr>\n",
       "<tr>\n",
       "  <th>Utility:label[T.low]</th>      <td>    3.0506</td> <td>    0.465</td> <td>    6.559</td> <td> 0.096</td> <td>   -2.860     8.961</td>\n",
       "</tr>\n",
       "</table>\n",
       "<table class=\"simpletable\">\n",
       "<tr>\n",
       "  <th>Omnibus:</th>       <td> 4.354</td> <th>  Durbin-Watson:     </th> <td>   2.091</td>\n",
       "</tr>\n",
       "<tr>\n",
       "  <th>Prob(Omnibus):</th> <td> 0.113</td> <th>  Jarque-Bera (JB):  </th> <td>   1.803</td>\n",
       "</tr>\n",
       "<tr>\n",
       "  <th>Skew:</th>          <td>-0.676</td> <th>  Prob(JB):          </th> <td>   0.406</td>\n",
       "</tr>\n",
       "<tr>\n",
       "  <th>Kurtosis:</th>      <td> 4.029</td> <th>  Cond. No.          </th> <td>2.98e+19</td>\n",
       "</tr>\n",
       "</table>"
      ],
      "text/plain": [
       "<class 'statsmodels.iolib.summary.Summary'>\n",
       "\"\"\"\n",
       "                            OLS Regression Results                            \n",
       "==============================================================================\n",
       "Dep. Variable:               Interest   R-squared:                       0.999\n",
       "Model:                            OLS   Adj. R-squared:                  0.984\n",
       "Method:                 Least Squares   F-statistic:                     67.16\n",
       "Date:                Sat, 24 Dec 2016   Prob (F-statistic):             0.0953\n",
       "Time:                        14:50:05   Log-Likelihood:                 22.209\n",
       "No. Observations:                  15   AIC:                            -16.42\n",
       "Df Residuals:                       1   BIC:                            -6.506\n",
       "Df Model:                          13                                         \n",
       "Covariance Type:            nonrobust                                         \n",
       "=============================================================================================\n",
       "                                coef    std err          t      P>|t|      [95.0% Conf. Int.]\n",
       "---------------------------------------------------------------------------------------------\n",
       "Intercept                    -9.8205      2.797     -3.511      0.177       -45.361    25.720\n",
       "label[T.high]                18.8205      4.596      4.095      0.152       -39.575    77.216\n",
       "label[T.low]                -29.4652      4.327     -6.809      0.093       -84.448    25.517\n",
       "Success                       1.9161      0.299      6.398      0.099        -1.889     5.721\n",
       "Success:label[T.high]        -1.9161      0.393     -4.876      0.129        -6.909     3.077\n",
       "Success:label[T.low]         -6.0590      0.838     -7.230      0.087       -16.707     4.589\n",
       "Performance                   0.0727      0.176      0.413      0.751        -2.167     2.313\n",
       "Performance:label[T.high]    -0.0727      0.192     -0.379      0.769        -2.509     2.363\n",
       "Performance:label[T.low]     -0.6442      0.187     -3.454      0.179        -3.014     1.726\n",
       "Mastery                      -0.3727      0.493     -0.756      0.588        -6.635     5.889\n",
       "Mastery:label[T.high]         2.3727      0.652      3.641      0.171        -5.908    10.653\n",
       "Mastery:label[T.low]          3.8013      0.632      6.016      0.105        -4.227    11.829\n",
       "Utility                       0.6636      0.119      5.582      0.113        -0.847     2.174\n",
       "Utility:label[T.high]        -1.3303      0.234     -5.696      0.111        -4.298     1.637\n",
       "Utility:label[T.low]          3.0506      0.465      6.559      0.096        -2.860     8.961\n",
       "==============================================================================\n",
       "Omnibus:                        4.354   Durbin-Watson:                   2.091\n",
       "Prob(Omnibus):                  0.113   Jarque-Bera (JB):                1.803\n",
       "Skew:                          -0.676   Prob(JB):                        0.406\n",
       "Kurtosis:                       4.029   Cond. No.                     2.98e+19\n",
       "==============================================================================\n",
       "\n",
       "Warnings:\n",
       "[1] Standard Errors assume that the covariance matrix of the errors is correctly specified.\n",
       "[2] The smallest eigenvalue is 1.67e-35. This might indicate that there are\n",
       "strong multicollinearity problems or that the design matrix is singular.\n",
       "\"\"\""
      ]
     },
     "execution_count": 37,
     "metadata": {},
     "output_type": "execute_result"
    }
   ],
   "source": [
    "model = smf.ols(formula='Interest ~ Success*label + Performance*label + Mastery*label + Utility*label', data=groups).fit()\n",
    "model.summary()"
   ]
  },
  {
   "cell_type": "markdown",
   "metadata": {},
   "source": [
    "## Bivariate regression modeling\n",
    "\n",
    "The multiple regression model describes the score values as a weighted sum of the predictors.The first model correspond to the the two variables Success and Mastery and how they predict the scores is:\n",
    "\n",
    "$Interest=\\beta_0+\\beta_1\\cdot Success$"
   ]
  },
  {
   "cell_type": "code",
   "execution_count": 5,
   "metadata": {
    "collapsed": false
   },
   "outputs": [
    {
     "data": {
      "text/html": [
       "<table class=\"simpletable\">\n",
       "<tr>\n",
       "      <td></td>         <th>coef</th>     <th>std err</th>      <th>t</th>      <th>P>|t|</th> <th>[95.0% Conf. Int.]</th> \n",
       "</tr>\n",
       "<tr>\n",
       "  <th>Intercept</th> <td>   11.3713</td> <td>    2.965</td> <td>    3.835</td> <td> 0.002</td> <td>    4.966    17.777</td>\n",
       "</tr>\n",
       "<tr>\n",
       "  <th>Success</th>   <td>    0.8366</td> <td>    0.244</td> <td>    3.426</td> <td> 0.005</td> <td>    0.309     1.364</td>\n",
       "</tr>\n",
       "</table>"
      ],
      "text/plain": [
       "<IPython.core.display.HTML object>"
      ]
     },
     "execution_count": 5,
     "metadata": {},
     "output_type": "execute_result"
    }
   ],
   "source": [
    "est = smf.ols(formula='Interest ~ Success', data=groups).fit()\n",
    "\n",
    "from IPython.core.display import HTML\n",
    "def short_summary(est):\n",
    "    return HTML(est.summary().tables[1].as_html())\n",
    "\n",
    "short_summary(est)\n"
   ]
  },
  {
   "cell_type": "code",
   "execution_count": 6,
   "metadata": {
    "collapsed": false
   },
   "outputs": [
    {
     "data": {
      "text/plain": [
       "[<matplotlib.lines.Line2D at 0x11759aa10>]"
      ]
     },
     "execution_count": 6,
     "metadata": {},
     "output_type": "execute_result"
    },
    {
     "data": {
      "image/png": "[encoded data removed]",
      "text/plain": [
       "<matplotlib.figure.Figure at 0x1155daf90>"
      ]
     },
     "metadata": {},
     "output_type": "display_data"
    }
   ],
   "source": [
    "Success_linspace = np.linspace(groups.Success.min(), groups.Success.max(), 100)\n",
    "\n",
    "plt.xlabel('Success')\n",
    "plt.ylabel('Interest')\n",
    "plt.scatter(groups.Success, groups.Interest, alpha=0.3)\n",
    "plt.plot(Success_linspace, est.params[0] + est.params[1] * Success_linspace, 'r')"
   ]
  },
  {
   "cell_type": "markdown",
   "metadata": {},
   "source": [
    "## Model \\#2:  Prediction of Interest given Performance-approach goals $P(Interest | Performance)$\n",
    "$Interest=\\beta_0+\\beta_1\\cdot Performance$"
   ]
  },
  {
   "cell_type": "code",
   "execution_count": 7,
   "metadata": {
    "collapsed": false
   },
   "outputs": [
    {
     "data": {
      "text/html": [
       "<table class=\"simpletable\">\n",
       "<tr>\n",
       "       <td></td>          <th>coef</th>     <th>std err</th>      <th>t</th>      <th>P>|t|</th> <th>[95.0% Conf. Int.]</th> \n",
       "</tr>\n",
       "<tr>\n",
       "  <th>Intercept</th>   <td>   20.7383</td> <td>    1.568</td> <td>   13.230</td> <td> 0.000</td> <td>   17.352    24.125</td>\n",
       "</tr>\n",
       "<tr>\n",
       "  <th>Performance</th> <td>    0.0683</td> <td>    0.141</td> <td>    0.485</td> <td> 0.636</td> <td>   -0.236     0.373</td>\n",
       "</tr>\n",
       "</table>"
      ],
      "text/plain": [
       "<IPython.core.display.HTML object>"
      ]
     },
     "execution_count": 7,
     "metadata": {},
     "output_type": "execute_result"
    }
   ],
   "source": [
    "est2 = smf.ols(formula='Interest ~ Performance', data=groups).fit()\n",
    "short_summary(est2)"
   ]
  },
  {
   "cell_type": "code",
   "execution_count": 8,
   "metadata": {
    "collapsed": false
   },
   "outputs": [
    {
     "data": {
      "text/plain": [
       "[<matplotlib.lines.Line2D at 0x11a233210>]"
      ]
     },
     "execution_count": 8,
     "metadata": {},
     "output_type": "execute_result"
    },
    {
     "data": {
      "image/png": "[encoded data removed]",
      "text/plain": [
       "<matplotlib.figure.Figure at 0x104c76850>"
      ]
     },
     "metadata": {},
     "output_type": "display_data"
    }
   ],
   "source": [
    "Performance_linspace = np.linspace(groups.Performance.min(), groups.Performance.max(), 100)\n",
    "\n",
    "plt.xlabel('Performance')\n",
    "plt.ylabel('Interest')\n",
    "plt.scatter(groups.Performance, groups.Interest, alpha=0.3)\n",
    "plt.plot(Performance_linspace, est2.params[0] + est2.params[1] * Performance_linspace, 'r')"
   ]
  },
  {
   "cell_type": "markdown",
   "metadata": {},
   "source": [
    "## Model \\#3:  Prediction of Interest given Mastery-approach goals $P(Interest | Mastery)$\n",
    "$Interest=\\beta_0+\\beta_1\\cdot Mastery$"
   ]
  },
  {
   "cell_type": "code",
   "execution_count": 9,
   "metadata": {
    "collapsed": false
   },
   "outputs": [
    {
     "data": {
      "text/html": [
       "<table class=\"simpletable\">\n",
       "<tr>\n",
       "      <td></td>         <th>coef</th>     <th>std err</th>      <th>t</th>      <th>P>|t|</th> <th>[95.0% Conf. Int.]</th> \n",
       "</tr>\n",
       "<tr>\n",
       "  <th>Intercept</th> <td>    9.7158</td> <td>    3.162</td> <td>    3.072</td> <td> 0.009</td> <td>    2.884    16.547</td>\n",
       "</tr>\n",
       "<tr>\n",
       "  <th>Mastery</th>   <td>    0.9180</td> <td>    0.246</td> <td>    3.734</td> <td> 0.003</td> <td>    0.387     1.449</td>\n",
       "</tr>\n",
       "</table>"
      ],
      "text/plain": [
       "<IPython.core.display.HTML object>"
      ]
     },
     "execution_count": 9,
     "metadata": {},
     "output_type": "execute_result"
    }
   ],
   "source": [
    "est3 = smf.ols(formula='Interest ~ Mastery', data=groups).fit()\n",
    "short_summary(est3)"
   ]
  },
  {
   "cell_type": "code",
   "execution_count": 10,
   "metadata": {
    "collapsed": false
   },
   "outputs": [
    {
     "data": {
      "text/plain": [
       "[<matplotlib.lines.Line2D at 0x11a2be390>]"
      ]
     },
     "execution_count": 10,
     "metadata": {},
     "output_type": "execute_result"
    },
    {
     "data": {
      "image/png": "[encoded data removed]",
      "text/plain": [
       "<matplotlib.figure.Figure at 0x104c76710>"
      ]
     },
     "metadata": {},
     "output_type": "display_data"
    }
   ],
   "source": [
    "Mastery_linspace = np.linspace(groups.Mastery.min(), groups.Performance.max(), 100)\n",
    "\n",
    "plt.xlabel('Mastery')\n",
    "plt.ylabel('Interest')\n",
    "plt.scatter(groups.Mastery, groups.Interest, alpha=0.3)\n",
    "plt.plot(Mastery_linspace, est3.params[0] + est3.params[1] * Mastery_linspace, 'r')"
   ]
  },
  {
   "cell_type": "markdown",
   "metadata": {},
   "source": [
    "## Model \\#4: Prediction of Interest given Utility value $P(Interest | Utility)$\n",
    "$Interest=\\beta_0+\\beta_1\\cdot Utility$"
   ]
  },
  {
   "cell_type": "code",
   "execution_count": 11,
   "metadata": {
    "collapsed": false
   },
   "outputs": [
    {
     "data": {
      "text/html": [
       "<table class=\"simpletable\">\n",
       "<tr>\n",
       "      <td></td>         <th>coef</th>     <th>std err</th>      <th>t</th>      <th>P>|t|</th> <th>[95.0% Conf. Int.]</th> \n",
       "</tr>\n",
       "<tr>\n",
       "  <th>Intercept</th> <td>   11.5000</td> <td>    2.602</td> <td>    4.420</td> <td> 0.001</td> <td>    5.880    17.120</td>\n",
       "</tr>\n",
       "<tr>\n",
       "  <th>Utility</th>   <td>    0.5320</td> <td>    0.138</td> <td>    3.858</td> <td> 0.002</td> <td>    0.234     0.830</td>\n",
       "</tr>\n",
       "</table>"
      ],
      "text/plain": [
       "<IPython.core.display.HTML object>"
      ]
     },
     "execution_count": 11,
     "metadata": {},
     "output_type": "execute_result"
    }
   ],
   "source": [
    "est4 = smf.ols(formula='Interest ~ Utility', data=groups).fit()\n",
    "short_summary(est4)"
   ]
  },
  {
   "cell_type": "code",
   "execution_count": 12,
   "metadata": {
    "collapsed": false
   },
   "outputs": [
    {
     "data": {
      "text/plain": [
       "[<matplotlib.lines.Line2D at 0x11a2a8e90>]"
      ]
     },
     "execution_count": 12,
     "metadata": {},
     "output_type": "execute_result"
    },
    {
     "data": {
      "image/png": "[encoded data removed]",
      "text/plain": [
       "<matplotlib.figure.Figure at 0x1178b1f90>"
      ]
     },
     "metadata": {},
     "output_type": "display_data"
    }
   ],
   "source": [
    "Utility_linspace = np.linspace(groups.Utility.min(), groups.Utility.max(), 100)\n",
    "\n",
    "plt.xlabel('Utility')\n",
    "plt.ylabel('Interest')\n",
    "plt.scatter(groups.Utility, groups.Interest, alpha=0.3)\n",
    "plt.plot(Utility_linspace, est4.params[0] + est4.params[1] * Utility_linspace, 'r')"
   ]
  },
  {
   "cell_type": "markdown",
   "metadata": {},
   "source": [
    "## Multiple regression modeling with categorical variables\n",
    "\n",
    "The multiple regression model describes the score values as a weighted sum of the predictors. Categorical variable $D$ is added to account for two groups in the observed data: a groups with high expectancy of success, and a groups with low expectancy of success. These groups are defined as 1 standard deviation above and below the mean. The regression model under this categorical variable and additive effects is expressed as:  \n",
    "\n",
    "$$Interest = \\beta_0 + \\beta_1 Success + \\alpha_1 D_1$$"
   ]
  },
  {
   "cell_type": "code",
   "execution_count": 13,
   "metadata": {
    "collapsed": false
   },
   "outputs": [
    {
     "data": {
      "text/html": [
       "<table class=\"simpletable\">\n",
       "<tr>\n",
       "        <td></td>           <th>coef</th>     <th>std err</th>      <th>t</th>      <th>P>|t|</th> <th>[95.0% Conf. Int.]</th> \n",
       "</tr>\n",
       "<tr>\n",
       "  <th>Intercept</th>     <td>    5.0364</td> <td>    7.624</td> <td>    0.661</td> <td> 0.522</td> <td>  -11.744    21.817</td>\n",
       "</tr>\n",
       "<tr>\n",
       "  <th>label[T.high]</th> <td>   -0.9818</td> <td>    1.317</td> <td>   -0.746</td> <td> 0.471</td> <td>   -3.879     1.916</td>\n",
       "</tr>\n",
       "<tr>\n",
       "  <th>label[T.low]</th>  <td>    0.9091</td> <td>    1.222</td> <td>    0.744</td> <td> 0.472</td> <td>   -1.780     3.598</td>\n",
       "</tr>\n",
       "<tr>\n",
       "  <th>Success</th>       <td>    1.3636</td> <td>    0.633</td> <td>    2.153</td> <td> 0.054</td> <td>   -0.030     2.758</td>\n",
       "</tr>\n",
       "</table>"
      ],
      "text/plain": [
       "<IPython.core.display.HTML object>"
      ]
     },
     "execution_count": 13,
     "metadata": {},
     "output_type": "execute_result"
    }
   ],
   "source": [
    "addEst = smf.ols(formula='Interest ~ Success  + label', data=groups).fit()\n",
    "short_summary(addEst)"
   ]
  },
  {
   "cell_type": "code",
   "execution_count": 14,
   "metadata": {
    "collapsed": false
   },
   "outputs": [
    {
     "data": {
      "text/plain": [
       "<matplotlib.legend.Legend at 0x11a6b6090>"
      ]
     },
     "execution_count": 14,
     "metadata": {},
     "output_type": "execute_result"
    },
    {
     "data": {
      "image/png": "[encoded data removed]",
      "text/plain": [
       "<matplotlib.figure.Figure at 0x11a415ed0>"
      ]
     },
     "metadata": {},
     "output_type": "display_data"
    }
   ],
   "source": [
    "plt.xlabel('Success')\n",
    "plt.ylabel('Interest')\n",
    "plt.scatter(groups.Success, groups.Interest, alpha=0.3)\n",
    "plt.plot(Success_linspace, addEst.params[0] + addEst.params[3] * Success_linspace + addEst.params[2] * 0, 'r',label=\"Low Exp.\")\n",
    "plt.plot(Success_linspace, addEst.params[0] + addEst.params[3] * Success_linspace + addEst.params[2] * 1, 'g',label=\"High Exp.\")\n",
    "plt.legend(loc=4)"
   ]
  },
  {
   "cell_type": "markdown",
   "metadata": {},
   "source": [
    "## Categorical model \\#2: Interest given Performance-approach goals $P(Interest|Performance,D=High)$\n",
    "\n",
    "$$Interest = \\beta_0 + \\beta_1 Performance + \\alpha_1 D_1$$"
   ]
  },
  {
   "cell_type": "code",
   "execution_count": 15,
   "metadata": {
    "collapsed": false
   },
   "outputs": [
    {
     "data": {
      "text/html": [
       "<table class=\"simpletable\">\n",
       "<tr>\n",
       "        <td></td>           <th>coef</th>     <th>std err</th>      <th>t</th>      <th>P>|t|</th> <th>[95.0% Conf. Int.]</th> \n",
       "</tr>\n",
       "<tr>\n",
       "  <th>Intercept</th>     <td>   20.8238</td> <td>    1.641</td> <td>   12.691</td> <td> 0.000</td> <td>   17.212    24.435</td>\n",
       "</tr>\n",
       "<tr>\n",
       "  <th>label[T.high]</th> <td>    1.2404</td> <td>    1.000</td> <td>    1.240</td> <td> 0.241</td> <td>   -0.961     3.442</td>\n",
       "</tr>\n",
       "<tr>\n",
       "  <th>label[T.low]</th>  <td>   -0.9292</td> <td>    1.012</td> <td>   -0.919</td> <td> 0.378</td> <td>   -3.156     1.297</td>\n",
       "</tr>\n",
       "<tr>\n",
       "  <th>Performance</th>   <td>    0.0505</td> <td>    0.130</td> <td>    0.389</td> <td> 0.705</td> <td>   -0.236     0.337</td>\n",
       "</tr>\n",
       "</table>"
      ],
      "text/plain": [
       "<IPython.core.display.HTML object>"
      ]
     },
     "execution_count": 15,
     "metadata": {},
     "output_type": "execute_result"
    }
   ],
   "source": [
    "addEst2 = smf.ols(formula='Interest ~ Performance + label', data=groups).fit()\n",
    "short_summary(addEst2)"
   ]
  },
  {
   "cell_type": "code",
   "execution_count": 16,
   "metadata": {
    "collapsed": false
   },
   "outputs": [
    {
     "data": {
      "text/plain": [
       "<matplotlib.legend.Legend at 0x11b94d950>"
      ]
     },
     "execution_count": 16,
     "metadata": {},
     "output_type": "execute_result"
    },
    {
     "data": {
      "image/png": "[encoded data removed]",
      "text/plain": [
       "<matplotlib.figure.Figure at 0x11a59cbd0>"
      ]
     },
     "metadata": {},
     "output_type": "display_data"
    }
   ],
   "source": [
    "plt.xlabel('Performance')\n",
    "plt.ylabel('Interest')\n",
    "plt.scatter(groups.Performance, groups.Interest, alpha=0.3)\n",
    "plt.plot(Performance_linspace, addEst2.params[0] + addEst2.params[3] * Performance_linspace + addEst2.params[2] * 0, 'r',label=\"Low Exp.\")\n",
    "plt.plot(Performance_linspace, addEst2.params[0] + addEst2.params[3] * Performance_linspace + addEst2.params[2] * 1, 'g',label=\"High Exp.\")\n",
    "plt.legend(loc=4)"
   ]
  },
  {
   "cell_type": "markdown",
   "metadata": {},
   "source": [
    "## Categorical model \\#3: Interest given Mastery-approach goals  $P(Interest|Mastery,D=High)$\n",
    "\n",
    "$$Interest = \\beta_0 + \\beta_1 Mastery + \\alpha_1 D_1$$"
   ]
  },
  {
   "cell_type": "code",
   "execution_count": 17,
   "metadata": {
    "collapsed": false
   },
   "outputs": [
    {
     "data": {
      "text/html": [
       "<table class=\"simpletable\">\n",
       "<tr>\n",
       "        <td></td>           <th>coef</th>     <th>std err</th>      <th>t</th>      <th>P>|t|</th> <th>[95.0% Conf. Int.]</th> \n",
       "</tr>\n",
       "<tr>\n",
       "  <th>Intercept</th>     <td>   10.8521</td> <td>    3.095</td> <td>    3.507</td> <td> 0.005</td> <td>    4.041    17.663</td>\n",
       "</tr>\n",
       "<tr>\n",
       "  <th>label[T.high]</th> <td>   -0.0104</td> <td>    0.778</td> <td>   -0.013</td> <td> 0.990</td> <td>   -1.722     1.701</td>\n",
       "</tr>\n",
       "<tr>\n",
       "  <th>label[T.low]</th>  <td>   -1.3458</td> <td>    0.701</td> <td>   -1.919</td> <td> 0.081</td> <td>   -2.889     0.198</td>\n",
       "</tr>\n",
       "<tr>\n",
       "  <th>Mastery</th>       <td>    0.8646</td> <td>    0.250</td> <td>    3.452</td> <td> 0.005</td> <td>    0.313     1.416</td>\n",
       "</tr>\n",
       "</table>"
      ],
      "text/plain": [
       "<IPython.core.display.HTML object>"
      ]
     },
     "execution_count": 17,
     "metadata": {},
     "output_type": "execute_result"
    }
   ],
   "source": [
    "addEst3 = smf.ols(formula='Interest ~ Mastery + label', data=groups).fit()\n",
    "short_summary(addEst3)"
   ]
  },
  {
   "cell_type": "code",
   "execution_count": 18,
   "metadata": {
    "collapsed": false
   },
   "outputs": [
    {
     "data": {
      "text/plain": [
       "<matplotlib.legend.Legend at 0x11bad9390>"
      ]
     },
     "execution_count": 18,
     "metadata": {},
     "output_type": "execute_result"
    },
    {
     "data": {
      "image/png": "[encoded data removed]",
      "text/plain": [
       "<matplotlib.figure.Figure at 0x11a59c0d0>"
      ]
     },
     "metadata": {},
     "output_type": "display_data"
    }
   ],
   "source": [
    "plt.xlabel('Mastery')\n",
    "plt.ylabel('Interest')\n",
    "plt.scatter(groups.Mastery, groups.Interest, alpha=0.3)\n",
    "plt.plot(Mastery_linspace, addEst3.params[0] + addEst3.params[3] * Mastery_linspace + addEst3.params[2] * 0, 'r',label=\"Low Exp.\")\n",
    "plt.plot(Mastery_linspace, addEst3.params[0] + addEst3.params[3] * Mastery_linspace + addEst3.params[2] * 1, 'g',label=\"High Exp.\")\n",
    "plt.legend(loc=4)"
   ]
  },
  {
   "cell_type": "markdown",
   "metadata": {},
   "source": [
    "## Categorical model \\#3: Interest given Utility value  $P(Interest|Utility,D=High)$\n",
    "\n",
    "$$Interest = \\beta_0 + \\beta_1 Utility + \\alpha_1 D_1$$"
   ]
  },
  {
   "cell_type": "code",
   "execution_count": 19,
   "metadata": {
    "collapsed": false
   },
   "outputs": [
    {
     "data": {
      "text/html": [
       "<table class=\"simpletable\">\n",
       "<tr>\n",
       "        <td></td>           <th>coef</th>     <th>std err</th>      <th>t</th>      <th>P>|t|</th> <th>[95.0% Conf. Int.]</th> \n",
       "</tr>\n",
       "<tr>\n",
       "  <th>Intercept</th>     <td>   13.0000</td> <td>    2.988</td> <td>    4.351</td> <td> 0.001</td> <td>    6.424    19.576</td>\n",
       "</tr>\n",
       "<tr>\n",
       "  <th>label[T.high]</th> <td>    0.0800</td> <td>    0.854</td> <td>    0.094</td> <td> 0.927</td> <td>   -1.800     1.960</td>\n",
       "</tr>\n",
       "<tr>\n",
       "  <th>label[T.low]</th>  <td>   -0.9067</td> <td>    0.760</td> <td>   -1.194</td> <td> 0.258</td> <td>   -2.579     0.765</td>\n",
       "</tr>\n",
       "<tr>\n",
       "  <th>Utility</th>       <td>    0.4667</td> <td>    0.163</td> <td>    2.858</td> <td> 0.016</td> <td>    0.107     0.826</td>\n",
       "</tr>\n",
       "</table>"
      ],
      "text/plain": [
       "<IPython.core.display.HTML object>"
      ]
     },
     "execution_count": 19,
     "metadata": {},
     "output_type": "execute_result"
    }
   ],
   "source": [
    "addEst4 = smf.ols(formula='Interest ~ Utility + label', data=groups).fit()\n",
    "short_summary(addEst4)"
   ]
  },
  {
   "cell_type": "code",
   "execution_count": 20,
   "metadata": {
    "collapsed": false
   },
   "outputs": [
    {
     "data": {
      "text/plain": [
       "<matplotlib.legend.Legend at 0x11bbb74d0>"
      ]
     },
     "execution_count": 20,
     "metadata": {},
     "output_type": "execute_result"
    },
    {
     "data": {
      "image/png": "[encoded data removed]",
      "text/plain": [
       "<matplotlib.figure.Figure at 0x11a2a8110>"
      ]
     },
     "metadata": {},
     "output_type": "display_data"
    }
   ],
   "source": [
    "plt.xlabel('Utility')\n",
    "plt.ylabel('Interest')\n",
    "plt.scatter(groups.Utility, groups.Interest, alpha=0.3)\n",
    "plt.plot(Utility_linspace, addEst4.params[0] + addEst4.params[3] * Utility_linspace + addEst4.params[2] * 0, 'r',label=\"Low Exp.\")\n",
    "plt.plot(Utility_linspace, addEst4.params[0] + addEst4.params[3] * Utility_linspace + addEst4.params[2] * 1, 'g',label=\"High Exp.\")\n",
    "plt.legend(loc=4)"
   ]
  },
  {
   "cell_type": "markdown",
   "metadata": {},
   "source": [
    "## Multiple regression modeling with categorical variables and multiplicative effects\n",
    "\n",
    "The multiple regression model describes the score values as a weighted sum of the predictors. Multiplicative effects are considered in this model as shown below:  \n",
    "\n",
    "$$Interest = \\beta_0 + \\beta_1 Success_1 + \\alpha_1 D_1 + \\alpha_2 (D_1Success_1)$$"
   ]
  },
  {
   "cell_type": "code",
   "execution_count": 21,
   "metadata": {
    "collapsed": false
   },
   "outputs": [
    {
     "data": {
      "text/html": [
       "<table class=\"simpletable\">\n",
       "<tr>\n",
       "            <td></td>               <th>coef</th>     <th>std err</th>      <th>t</th>      <th>P>|t|</th> <th>[95.0% Conf. Int.]</th> \n",
       "</tr>\n",
       "<tr>\n",
       "  <th>Intercept</th>             <td>    4.5476</td> <td>    6.357</td> <td>    0.715</td> <td> 0.491</td> <td>   -9.618    18.713</td>\n",
       "</tr>\n",
       "<tr>\n",
       "  <th>label[T.high]</th>         <td>    4.4524</td> <td>   11.805</td> <td>    0.377</td> <td> 0.714</td> <td>  -21.850    30.755</td>\n",
       "</tr>\n",
       "<tr>\n",
       "  <th>label[T.low]</th>          <td>   -0.0476</td> <td>    7.936</td> <td>   -0.006</td> <td> 0.995</td> <td>  -17.730    17.635</td>\n",
       "</tr>\n",
       "<tr>\n",
       "  <th>Success</th>               <td>    1.4044</td> <td>    0.532</td> <td>    2.638</td> <td> 0.025</td> <td>    0.218     2.590</td>\n",
       "</tr>\n",
       "<tr>\n",
       "  <th>Success:label[T.high]</th> <td>   -0.4044</td> <td>    0.822</td> <td>   -0.492</td> <td> 0.633</td> <td>   -2.236     1.427</td>\n",
       "</tr>\n",
       "<tr>\n",
       "  <th>Success:label[T.low]</th>  <td>    0.0956</td> <td>    0.728</td> <td>    0.131</td> <td> 0.898</td> <td>   -1.526     1.717</td>\n",
       "</tr>\n",
       "</table>"
      ],
      "text/plain": [
       "<IPython.core.display.HTML object>"
      ]
     },
     "execution_count": 21,
     "metadata": {},
     "output_type": "execute_result"
    }
   ],
   "source": [
    "mulEst = smf.ols(formula='Interest ~ Success  * label', data=groups).fit()\n",
    "short_summary(mulEst)"
   ]
  },
  {
   "cell_type": "code",
   "execution_count": 22,
   "metadata": {
    "collapsed": false
   },
   "outputs": [
    {
     "data": {
      "text/plain": [
       "<matplotlib.legend.Legend at 0x11befae90>"
      ]
     },
     "execution_count": 22,
     "metadata": {},
     "output_type": "execute_result"
    },
    {
     "data": {
      "image/png": "[encoded data removed]",
      "text/plain": [
       "<matplotlib.figure.Figure at 0x11a3d2ed0>"
      ]
     },
     "metadata": {},
     "output_type": "display_data"
    }
   ],
   "source": [
    "plt.xlabel('Success')\n",
    "plt.ylabel('Interest')\n",
    "plt.scatter(groups.Success, groups.Interest, alpha=0.3)\n",
    "plt.plot(Success_linspace, mulEst.params[0] + mulEst.params[3] * Success_linspace + \n",
    "         mulEst.params[2] * 0 + mulEst.params[5] * 0 * Success_linspace, 'r',label=\"Low Exp.\")\n",
    "plt.plot(Success_linspace, mulEst.params[0] + mulEst.params[3] * Success_linspace + \n",
    "         mulEst.params[2] * 1 + mulEst.params[5] * 1 * Success_linspace, 'g',label=\"High Exp.\")\n",
    "plt.legend(loc=4)"
   ]
  },
  {
   "cell_type": "markdown",
   "metadata": {},
   "source": [
    "## Model with multiplicative effects \\#2: $P(Interest|Performance,D=High)$\n",
    "$$Interest = \\beta_0 + \\beta_1 Performance_1 + \\alpha_1 D_1 + \\alpha_2 (D_1Performance_1)$$"
   ]
  },
  {
   "cell_type": "code",
   "execution_count": 23,
   "metadata": {
    "collapsed": false
   },
   "outputs": [
    {
     "data": {
      "text/html": [
       "<table class=\"simpletable\">\n",
       "<tr>\n",
       "              <td></td>                 <th>coef</th>     <th>std err</th>      <th>t</th>      <th>P>|t|</th> <th>[95.0% Conf. Int.]</th> \n",
       "</tr>\n",
       "<tr>\n",
       "  <th>Intercept</th>                 <td>   16.1534</td> <td>    2.861</td> <td>    5.647</td> <td> 0.000</td> <td>    9.682    22.625</td>\n",
       "</tr>\n",
       "<tr>\n",
       "  <th>label[T.high]</th>             <td>    5.9418</td> <td>    4.240</td> <td>    1.401</td> <td> 0.195</td> <td>   -3.650    15.534</td>\n",
       "</tr>\n",
       "<tr>\n",
       "  <th>label[T.low]</th>              <td>    5.4094</td> <td>    3.324</td> <td>    1.627</td> <td> 0.138</td> <td>   -2.110    12.929</td>\n",
       "</tr>\n",
       "<tr>\n",
       "  <th>Performance</th>               <td>    0.4602</td> <td>    0.244</td> <td>    1.883</td> <td> 0.092</td> <td>   -0.093     1.013</td>\n",
       "</tr>\n",
       "<tr>\n",
       "  <th>Performance:label[T.high]</th> <td>   -0.4126</td> <td>    0.378</td> <td>   -1.090</td> <td> 0.304</td> <td>   -1.269     0.443</td>\n",
       "</tr>\n",
       "<tr>\n",
       "  <th>Performance:label[T.low]</th>  <td>   -0.5765</td> <td>    0.290</td> <td>   -1.987</td> <td> 0.078</td> <td>   -1.233     0.080</td>\n",
       "</tr>\n",
       "</table>"
      ],
      "text/plain": [
       "<IPython.core.display.HTML object>"
      ]
     },
     "execution_count": 23,
     "metadata": {},
     "output_type": "execute_result"
    }
   ],
   "source": [
    "mulEst2 = smf.ols(formula='Interest ~ Performance  * label', data=groups).fit()\n",
    "short_summary(mulEst2)"
   ]
  },
  {
   "cell_type": "code",
   "execution_count": 24,
   "metadata": {
    "collapsed": false
   },
   "outputs": [
    {
     "data": {
      "text/plain": [
       "<matplotlib.legend.Legend at 0x11b9d3ed0>"
      ]
     },
     "execution_count": 24,
     "metadata": {},
     "output_type": "execute_result"
    },
    {
     "data": {
      "image/png": "[encoded data removed]",
      "text/plain": [
       "<matplotlib.figure.Figure at 0x11b9d3710>"
      ]
     },
     "metadata": {},
     "output_type": "display_data"
    }
   ],
   "source": [
    "plt.xlabel('Performance')\n",
    "plt.ylabel('Interest')\n",
    "plt.scatter(groups.Performance, groups.Interest, alpha=0.3)\n",
    "plt.plot(Success_linspace, mulEst2.params[0] + mulEst2.params[3] * Performance_linspace + \n",
    "         mulEst2.params[2] * 0 + mulEst2.params[5] * 0 * Performance_linspace, 'r',label=\"Low Exp.\")\n",
    "plt.plot(Performance_linspace, mulEst2.params[0] + mulEst2.params[3] * Performance_linspace + \n",
    "         mulEst2.params[2] * 1 + mulEst2.params[5] * 1 * Performance_linspace, 'g',label=\"High Exp.\")\n",
    "plt.legend(loc=4)"
   ]
  },
  {
   "cell_type": "markdown",
   "metadata": {},
   "source": [
    "## Model with multiplicative effects \\#3: $P(Interest|Mastery,D=High)$\n",
    "$$Interest = \\beta_0 + \\beta_1 Mastery_1 + \\alpha_1 D_1 + \\alpha_2 (D_1Mastery_1)$$"
   ]
  },
  {
   "cell_type": "code",
   "execution_count": 25,
   "metadata": {
    "collapsed": false
   },
   "outputs": [
    {
     "data": {
      "text/html": [
       "<table class=\"simpletable\">\n",
       "<tr>\n",
       "            <td></td>               <th>coef</th>     <th>std err</th>      <th>t</th>      <th>P>|t|</th> <th>[95.0% Conf. Int.]</th> \n",
       "</tr>\n",
       "<tr>\n",
       "  <th>Intercept</th>             <td>    9.4259</td> <td>    4.459</td> <td>    2.114</td> <td> 0.064</td> <td>   -0.660    19.512</td>\n",
       "</tr>\n",
       "<tr>\n",
       "  <th>label[T.high]</th>         <td>   -0.4259</td> <td>   15.470</td> <td>   -0.028</td> <td> 0.979</td> <td>  -35.421    34.569</td>\n",
       "</tr>\n",
       "<tr>\n",
       "  <th>label[T.low]</th>          <td>    2.5741</td> <td>    7.177</td> <td>    0.359</td> <td> 0.728</td> <td>  -13.662    18.810</td>\n",
       "</tr>\n",
       "<tr>\n",
       "  <th>Mastery</th>               <td>    0.9815</td> <td>    0.363</td> <td>    2.705</td> <td> 0.024</td> <td>    0.161     1.802</td>\n",
       "</tr>\n",
       "<tr>\n",
       "  <th>Mastery:label[T.high]</th> <td>    0.0185</td> <td>    1.147</td> <td>    0.016</td> <td> 0.987</td> <td>   -2.577     2.614</td>\n",
       "</tr>\n",
       "<tr>\n",
       "  <th>Mastery:label[T.low]</th>  <td>   -0.3148</td> <td>    0.574</td> <td>   -0.549</td> <td> 0.597</td> <td>   -1.613     0.983</td>\n",
       "</tr>\n",
       "</table>"
      ],
      "text/plain": [
       "<IPython.core.display.HTML object>"
      ]
     },
     "execution_count": 25,
     "metadata": {},
     "output_type": "execute_result"
    }
   ],
   "source": [
    "mulEst3 = smf.ols(formula='Interest ~ Mastery  * label', data=groups).fit()\n",
    "short_summary(mulEst3)"
   ]
  },
  {
   "cell_type": "code",
   "execution_count": 26,
   "metadata": {
    "collapsed": false
   },
   "outputs": [
    {
     "data": {
      "text/plain": [
       "<matplotlib.legend.Legend at 0x11b9e4210>"
      ]
     },
     "execution_count": 26,
     "metadata": {},
     "output_type": "execute_result"
    },
    {
     "data": {
      "image/png": "[encoded data removed]",
      "text/plain": [
       "<matplotlib.figure.Figure at 0x11be0f190>"
      ]
     },
     "metadata": {},
     "output_type": "display_data"
    }
   ],
   "source": [
    "plt.xlabel('Mastery')\n",
    "plt.ylabel('Interest')\n",
    "plt.scatter(groups.Mastery, groups.Interest, alpha=0.3)\n",
    "plt.plot(Mastery_linspace, mulEst3.params[0] + mulEst3.params[3] * Mastery_linspace + \n",
    "         mulEst3.params[2] * 0 + mulEst3.params[5] * 0 * Mastery_linspace, 'r',label=\"Low Exp.\")\n",
    "plt.plot(Mastery_linspace, mulEst3.params[0] + mulEst3.params[3] * Mastery_linspace + \n",
    "         mulEst3.params[2] * 1 + mulEst3.params[5] * 1 * Mastery_linspace, 'g',label=\"High Exp.\")\n",
    "plt.legend(loc=4)"
   ]
  },
  {
   "cell_type": "markdown",
   "metadata": {},
   "source": [
    "## Model with multiplicative effects \\#4: $P(Interest|Utility,D=High)$\n",
    "$$Interest = \\beta_0 + \\beta_1 Utility_1 + \\alpha_1 D_1 + \\alpha_2 (D_1Utility_1)$$"
   ]
  },
  {
   "cell_type": "code",
   "execution_count": 27,
   "metadata": {
    "collapsed": false
   },
   "outputs": [
    {
     "data": {
      "text/html": [
       "<table class=\"simpletable\">\n",
       "<tr>\n",
       "            <td></td>               <th>coef</th>     <th>std err</th>      <th>t</th>      <th>P>|t|</th> <th>[95.0% Conf. Int.]</th> \n",
       "</tr>\n",
       "<tr>\n",
       "  <th>Intercept</th>             <td>   11.5818</td> <td>    3.209</td> <td>    3.609</td> <td> 0.006</td> <td>    4.323    18.841</td>\n",
       "</tr>\n",
       "<tr>\n",
       "  <th>label[T.high]</th>         <td>   14.4182</td> <td>    9.447</td> <td>    1.526</td> <td> 0.161</td> <td>   -6.953    35.790</td>\n",
       "</tr>\n",
       "<tr>\n",
       "  <th>label[T.low]</th>          <td>   -6.4390</td> <td>   12.830</td> <td>   -0.502</td> <td> 0.628</td> <td>  -35.463    22.585</td>\n",
       "</tr>\n",
       "<tr>\n",
       "  <th>Utility</th>               <td>    0.5455</td> <td>    0.176</td> <td>    3.101</td> <td> 0.013</td> <td>    0.148     0.943</td>\n",
       "</tr>\n",
       "<tr>\n",
       "  <th>Utility:label[T.high]</th> <td>   -0.7121</td> <td>    0.469</td> <td>   -1.518</td> <td> 0.163</td> <td>   -1.773     0.349</td>\n",
       "</tr>\n",
       "<tr>\n",
       "  <th>Utility:label[T.low]</th>  <td>    0.3117</td> <td>    0.719</td> <td>    0.433</td> <td> 0.675</td> <td>   -1.315     1.938</td>\n",
       "</tr>\n",
       "</table>"
      ],
      "text/plain": [
       "<IPython.core.display.HTML object>"
      ]
     },
     "execution_count": 27,
     "metadata": {},
     "output_type": "execute_result"
    }
   ],
   "source": [
    "mulEst4 = smf.ols(formula='Interest ~ Utility  * label', data=groups).fit()\n",
    "short_summary(mulEst4)"
   ]
  },
  {
   "cell_type": "code",
   "execution_count": 28,
   "metadata": {
    "collapsed": false
   },
   "outputs": [
    {
     "data": {
      "text/plain": [
       "<matplotlib.legend.Legend at 0x11bf8bc90>"
      ]
     },
     "execution_count": 28,
     "metadata": {},
     "output_type": "execute_result"
    },
    {
     "data": {
      "image/png": "[encoded data removed]",
      "text/plain": [
       "<matplotlib.figure.Figure at 0x11bf8b650>"
      ]
     },
     "metadata": {},
     "output_type": "display_data"
    }
   ],
   "source": [
    "plt.xlabel('Utility')\n",
    "plt.ylabel('Interest')\n",
    "plt.scatter(groups.Utility, groups.Interest, alpha=0.3)\n",
    "plt.plot(Utility_linspace, mulEst4.params[0] + mulEst4.params[3] * Utility_linspace + \n",
    "         mulEst4.params[2] * 0 + mulEst4.params[5] * 0 * Utility_linspace, 'r',label=\"Low Exp.\")\n",
    "plt.plot(Utility_linspace, mulEst4.params[0] + mulEst4.params[3] * Utility_linspace + \n",
    "         mulEst4.params[2] * 1 + mulEst4.params[5] * 1 * Utility_linspace, 'g',label=\"High Exp.\")\n",
    "plt.legend(loc=4)"
   ]
  },
  {
   "cell_type": "code",
   "execution_count": 32,
   "metadata": {
    "collapsed": false
   },
   "outputs": [
    {
     "data": {
      "text/html": [
       "<table class=\"simpletable\">\n",
       "<caption>OLS Regression Results</caption>\n",
       "<tr>\n",
       "  <th>Dep. Variable:</th>        <td>Interest</td>     <th>  R-squared:         </th> <td>   0.678</td>\n",
       "</tr>\n",
       "<tr>\n",
       "  <th>Model:</th>                   <td>OLS</td>       <th>  Adj. R-squared:    </th> <td>   0.499</td>\n",
       "</tr>\n",
       "<tr>\n",
       "  <th>Method:</th>             <td>Least Squares</td>  <th>  F-statistic:       </th> <td>   3.789</td>\n",
       "</tr>\n",
       "<tr>\n",
       "  <th>Date:</th>             <td>Sat, 24 Dec 2016</td> <th>  Prob (F-statistic):</th>  <td>0.0400</td> \n",
       "</tr>\n",
       "<tr>\n",
       "  <th>Time:</th>                 <td>14:32:50</td>     <th>  Log-Likelihood:    </th> <td> -20.092</td>\n",
       "</tr>\n",
       "<tr>\n",
       "  <th>No. Observations:</th>      <td>    15</td>      <th>  AIC:               </th> <td>   52.18</td>\n",
       "</tr>\n",
       "<tr>\n",
       "  <th>Df Residuals:</th>          <td>     9</td>      <th>  BIC:               </th> <td>   56.43</td>\n",
       "</tr>\n",
       "<tr>\n",
       "  <th>Df Model:</th>              <td>     5</td>      <th>                     </th>     <td> </td>   \n",
       "</tr>\n",
       "<tr>\n",
       "  <th>Covariance Type:</th>      <td>nonrobust</td>    <th>                     </th>     <td> </td>   \n",
       "</tr>\n",
       "</table>\n",
       "<table class=\"simpletable\">\n",
       "<tr>\n",
       "            <td></td>               <th>coef</th>     <th>std err</th>      <th>t</th>      <th>P>|t|</th> <th>[95.0% Conf. Int.]</th> \n",
       "</tr>\n",
       "<tr>\n",
       "  <th>Intercept</th>             <td>    9.4259</td> <td>    4.459</td> <td>    2.114</td> <td> 0.064</td> <td>   -0.660    19.512</td>\n",
       "</tr>\n",
       "<tr>\n",
       "  <th>label[T.high]</th>         <td>   -0.4259</td> <td>   15.470</td> <td>   -0.028</td> <td> 0.979</td> <td>  -35.421    34.569</td>\n",
       "</tr>\n",
       "<tr>\n",
       "  <th>label[T.low]</th>          <td>    2.5741</td> <td>    7.177</td> <td>    0.359</td> <td> 0.728</td> <td>  -13.662    18.810</td>\n",
       "</tr>\n",
       "<tr>\n",
       "  <th>Mastery</th>               <td>    0.9815</td> <td>    0.363</td> <td>    2.705</td> <td> 0.024</td> <td>    0.161     1.802</td>\n",
       "</tr>\n",
       "<tr>\n",
       "  <th>Mastery:label[T.high]</th> <td>    0.0185</td> <td>    1.147</td> <td>    0.016</td> <td> 0.987</td> <td>   -2.577     2.614</td>\n",
       "</tr>\n",
       "<tr>\n",
       "  <th>Mastery:label[T.low]</th>  <td>   -0.3148</td> <td>    0.574</td> <td>   -0.549</td> <td> 0.597</td> <td>   -1.613     0.983</td>\n",
       "</tr>\n",
       "</table>\n",
       "<table class=\"simpletable\">\n",
       "<tr>\n",
       "  <th>Omnibus:</th>       <td> 0.220</td> <th>  Durbin-Watson:     </th> <td>   1.791</td>\n",
       "</tr>\n",
       "<tr>\n",
       "  <th>Prob(Omnibus):</th> <td> 0.896</td> <th>  Jarque-Bera (JB):  </th> <td>   0.273</td>\n",
       "</tr>\n",
       "<tr>\n",
       "  <th>Skew:</th>          <td> 0.228</td> <th>  Prob(JB):          </th> <td>   0.872</td>\n",
       "</tr>\n",
       "<tr>\n",
       "  <th>Kurtosis:</th>      <td> 2.521</td> <th>  Cond. No.          </th> <td>    738.</td>\n",
       "</tr>\n",
       "</table>"
      ],
      "text/plain": [
       "<class 'statsmodels.iolib.summary.Summary'>\n",
       "\"\"\"\n",
       "                            OLS Regression Results                            \n",
       "==============================================================================\n",
       "Dep. Variable:               Interest   R-squared:                       0.678\n",
       "Model:                            OLS   Adj. R-squared:                  0.499\n",
       "Method:                 Least Squares   F-statistic:                     3.789\n",
       "Date:                Sat, 24 Dec 2016   Prob (F-statistic):             0.0400\n",
       "Time:                        14:32:50   Log-Likelihood:                -20.092\n",
       "No. Observations:                  15   AIC:                             52.18\n",
       "Df Residuals:                       9   BIC:                             56.43\n",
       "Df Model:                           5                                         \n",
       "Covariance Type:            nonrobust                                         \n",
       "=========================================================================================\n",
       "                            coef    std err          t      P>|t|      [95.0% Conf. Int.]\n",
       "-----------------------------------------------------------------------------------------\n",
       "Intercept                 9.4259      4.459      2.114      0.064        -0.660    19.512\n",
       "label[T.high]            -0.4259     15.470     -0.028      0.979       -35.421    34.569\n",
       "label[T.low]              2.5741      7.177      0.359      0.728       -13.662    18.810\n",
       "Mastery                   0.9815      0.363      2.705      0.024         0.161     1.802\n",
       "Mastery:label[T.high]     0.0185      1.147      0.016      0.987        -2.577     2.614\n",
       "Mastery:label[T.low]     -0.3148      0.574     -0.549      0.597        -1.613     0.983\n",
       "==============================================================================\n",
       "Omnibus:                        0.220   Durbin-Watson:                   1.791\n",
       "Prob(Omnibus):                  0.896   Jarque-Bera (JB):                0.273\n",
       "Skew:                           0.228   Prob(JB):                        0.872\n",
       "Kurtosis:                       2.521   Cond. No.                         738.\n",
       "==============================================================================\n",
       "\n",
       "Warnings:\n",
       "[1] Standard Errors assume that the covariance matrix of the errors is correctly specified.\n",
       "\"\"\""
      ]
     },
     "execution_count": 32,
     "metadata": {},
     "output_type": "execute_result"
    }
   ],
   "source": [
    "mulEst3.summary()"
   ]
  },
  {
   "cell_type": "code",
   "execution_count": null,
   "metadata": {
    "collapsed": true
   },
   "outputs": [],
   "source": []
  }
 ],
 "metadata": {
  "anaconda-cloud": {},
  "kernelspec": {
   "display_name": "Python 2",
   "language": "python",
   "name": "python2"
  },
  "language_info": {
   "codemirror_mode": {
    "name": "ipython",
    "version": 2
   },
   "file_extension": ".py",
   "mimetype": "text/x-python",
   "name": "python",
   "nbconvert_exporter": "python",
   "pygments_lexer": "ipython2",
   "version": "2.7.11"
  }
 },
 "nbformat": 4,
 "nbformat_minor": 0
}
